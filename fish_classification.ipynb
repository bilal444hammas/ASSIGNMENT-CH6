{
  "nbformat": 4,
  "nbformat_minor": 0,
  "metadata": {
    "colab": {
      "name": "fish_classification.ipynb",
      "provenance": [],
      "authorship_tag": "ABX9TyNALuWYM/IObYlktNqmH5oa",
      "include_colab_link": true
    },
    "kernelspec": {
      "name": "python3",
      "display_name": "Python 3"
    }
  },
  "cells": [
    {
      "cell_type": "markdown",
      "metadata": {
        "id": "view-in-github",
        "colab_type": "text"
      },
      "source": [
        "<a href=\"https://colab.research.google.com/github/bilal444hammas/ASSIGNMENT-CH6/blob/master/fish_classification.ipynb\" target=\"_parent\"><img src=\"https://colab.research.google.com/assets/colab-badge.svg\" alt=\"Open In Colab\"/></a>"
      ]
    },
    {
      "cell_type": "code",
      "metadata": {
        "id": "0_tGdQqE_qwa",
        "colab_type": "code",
        "colab": {
          "base_uri": "https://localhost:8080/",
          "height": 424
        },
        "outputId": "dbef004b-4316-47cd-b0ce-d9815b48af08"
      },
      "source": [
        "import pandas as pd\n",
        "\n",
        "fish= pd.read_csv('/content/datasets_229906_491820_Fish.csv')\n",
        "\n",
        "fish\n",
        "\n"
      ],
      "execution_count": null,
      "outputs": [
        {
          "output_type": "execute_result",
          "data": {
            "text/html": [
              "<div>\n",
              "<style scoped>\n",
              "    .dataframe tbody tr th:only-of-type {\n",
              "        vertical-align: middle;\n",
              "    }\n",
              "\n",
              "    .dataframe tbody tr th {\n",
              "        vertical-align: top;\n",
              "    }\n",
              "\n",
              "    .dataframe thead th {\n",
              "        text-align: right;\n",
              "    }\n",
              "</style>\n",
              "<table border=\"1\" class=\"dataframe\">\n",
              "  <thead>\n",
              "    <tr style=\"text-align: right;\">\n",
              "      <th></th>\n",
              "      <th>Species</th>\n",
              "      <th>Weight</th>\n",
              "      <th>Length1</th>\n",
              "      <th>Length2</th>\n",
              "      <th>Length3</th>\n",
              "      <th>Height</th>\n",
              "      <th>Width</th>\n",
              "    </tr>\n",
              "  </thead>\n",
              "  <tbody>\n",
              "    <tr>\n",
              "      <th>0</th>\n",
              "      <td>Bream</td>\n",
              "      <td>242.0</td>\n",
              "      <td>23.2</td>\n",
              "      <td>25.4</td>\n",
              "      <td>30.0</td>\n",
              "      <td>11.5200</td>\n",
              "      <td>4.0200</td>\n",
              "    </tr>\n",
              "    <tr>\n",
              "      <th>1</th>\n",
              "      <td>Bream</td>\n",
              "      <td>290.0</td>\n",
              "      <td>24.0</td>\n",
              "      <td>26.3</td>\n",
              "      <td>31.2</td>\n",
              "      <td>12.4800</td>\n",
              "      <td>4.3056</td>\n",
              "    </tr>\n",
              "    <tr>\n",
              "      <th>2</th>\n",
              "      <td>Bream</td>\n",
              "      <td>340.0</td>\n",
              "      <td>23.9</td>\n",
              "      <td>26.5</td>\n",
              "      <td>31.1</td>\n",
              "      <td>12.3778</td>\n",
              "      <td>4.6961</td>\n",
              "    </tr>\n",
              "    <tr>\n",
              "      <th>3</th>\n",
              "      <td>Bream</td>\n",
              "      <td>363.0</td>\n",
              "      <td>26.3</td>\n",
              "      <td>29.0</td>\n",
              "      <td>33.5</td>\n",
              "      <td>12.7300</td>\n",
              "      <td>4.4555</td>\n",
              "    </tr>\n",
              "    <tr>\n",
              "      <th>4</th>\n",
              "      <td>Bream</td>\n",
              "      <td>430.0</td>\n",
              "      <td>26.5</td>\n",
              "      <td>29.0</td>\n",
              "      <td>34.0</td>\n",
              "      <td>12.4440</td>\n",
              "      <td>5.1340</td>\n",
              "    </tr>\n",
              "    <tr>\n",
              "      <th>...</th>\n",
              "      <td>...</td>\n",
              "      <td>...</td>\n",
              "      <td>...</td>\n",
              "      <td>...</td>\n",
              "      <td>...</td>\n",
              "      <td>...</td>\n",
              "      <td>...</td>\n",
              "    </tr>\n",
              "    <tr>\n",
              "      <th>154</th>\n",
              "      <td>Smelt</td>\n",
              "      <td>12.2</td>\n",
              "      <td>11.5</td>\n",
              "      <td>12.2</td>\n",
              "      <td>13.4</td>\n",
              "      <td>2.0904</td>\n",
              "      <td>1.3936</td>\n",
              "    </tr>\n",
              "    <tr>\n",
              "      <th>155</th>\n",
              "      <td>Smelt</td>\n",
              "      <td>13.4</td>\n",
              "      <td>11.7</td>\n",
              "      <td>12.4</td>\n",
              "      <td>13.5</td>\n",
              "      <td>2.4300</td>\n",
              "      <td>1.2690</td>\n",
              "    </tr>\n",
              "    <tr>\n",
              "      <th>156</th>\n",
              "      <td>Smelt</td>\n",
              "      <td>12.2</td>\n",
              "      <td>12.1</td>\n",
              "      <td>13.0</td>\n",
              "      <td>13.8</td>\n",
              "      <td>2.2770</td>\n",
              "      <td>1.2558</td>\n",
              "    </tr>\n",
              "    <tr>\n",
              "      <th>157</th>\n",
              "      <td>Smelt</td>\n",
              "      <td>19.7</td>\n",
              "      <td>13.2</td>\n",
              "      <td>14.3</td>\n",
              "      <td>15.2</td>\n",
              "      <td>2.8728</td>\n",
              "      <td>2.0672</td>\n",
              "    </tr>\n",
              "    <tr>\n",
              "      <th>158</th>\n",
              "      <td>Smelt</td>\n",
              "      <td>19.9</td>\n",
              "      <td>13.8</td>\n",
              "      <td>15.0</td>\n",
              "      <td>16.2</td>\n",
              "      <td>2.9322</td>\n",
              "      <td>1.8792</td>\n",
              "    </tr>\n",
              "  </tbody>\n",
              "</table>\n",
              "<p>159 rows × 7 columns</p>\n",
              "</div>"
            ],
            "text/plain": [
              "    Species  Weight  Length1  Length2  Length3   Height   Width\n",
              "0     Bream   242.0     23.2     25.4     30.0  11.5200  4.0200\n",
              "1     Bream   290.0     24.0     26.3     31.2  12.4800  4.3056\n",
              "2     Bream   340.0     23.9     26.5     31.1  12.3778  4.6961\n",
              "3     Bream   363.0     26.3     29.0     33.5  12.7300  4.4555\n",
              "4     Bream   430.0     26.5     29.0     34.0  12.4440  5.1340\n",
              "..      ...     ...      ...      ...      ...      ...     ...\n",
              "154   Smelt    12.2     11.5     12.2     13.4   2.0904  1.3936\n",
              "155   Smelt    13.4     11.7     12.4     13.5   2.4300  1.2690\n",
              "156   Smelt    12.2     12.1     13.0     13.8   2.2770  1.2558\n",
              "157   Smelt    19.7     13.2     14.3     15.2   2.8728  2.0672\n",
              "158   Smelt    19.9     13.8     15.0     16.2   2.9322  1.8792\n",
              "\n",
              "[159 rows x 7 columns]"
            ]
          },
          "metadata": {
            "tags": []
          },
          "execution_count": 5
        }
      ]
    },
    {
      "cell_type": "code",
      "metadata": {
        "id": "OHlYSGEUAcDv",
        "colab_type": "code",
        "colab": {
          "base_uri": "https://localhost:8080/",
          "height": 300
        },
        "outputId": "6cbff4c1-238d-45e0-d65c-9b859f10895a"
      },
      "source": [
        "\n",
        "\n",
        "fish.describe()\n",
        "\n"
      ],
      "execution_count": null,
      "outputs": [
        {
          "output_type": "execute_result",
          "data": {
            "text/html": [
              "<div>\n",
              "<style scoped>\n",
              "    .dataframe tbody tr th:only-of-type {\n",
              "        vertical-align: middle;\n",
              "    }\n",
              "\n",
              "    .dataframe tbody tr th {\n",
              "        vertical-align: top;\n",
              "    }\n",
              "\n",
              "    .dataframe thead th {\n",
              "        text-align: right;\n",
              "    }\n",
              "</style>\n",
              "<table border=\"1\" class=\"dataframe\">\n",
              "  <thead>\n",
              "    <tr style=\"text-align: right;\">\n",
              "      <th></th>\n",
              "      <th>Weight</th>\n",
              "      <th>Length1</th>\n",
              "      <th>Length2</th>\n",
              "      <th>Length3</th>\n",
              "      <th>Height</th>\n",
              "      <th>Width</th>\n",
              "    </tr>\n",
              "  </thead>\n",
              "  <tbody>\n",
              "    <tr>\n",
              "      <th>count</th>\n",
              "      <td>159.000000</td>\n",
              "      <td>159.000000</td>\n",
              "      <td>159.000000</td>\n",
              "      <td>159.000000</td>\n",
              "      <td>159.000000</td>\n",
              "      <td>159.000000</td>\n",
              "    </tr>\n",
              "    <tr>\n",
              "      <th>mean</th>\n",
              "      <td>398.326415</td>\n",
              "      <td>26.247170</td>\n",
              "      <td>28.415723</td>\n",
              "      <td>31.227044</td>\n",
              "      <td>8.970994</td>\n",
              "      <td>4.417486</td>\n",
              "    </tr>\n",
              "    <tr>\n",
              "      <th>std</th>\n",
              "      <td>357.978317</td>\n",
              "      <td>9.996441</td>\n",
              "      <td>10.716328</td>\n",
              "      <td>11.610246</td>\n",
              "      <td>4.286208</td>\n",
              "      <td>1.685804</td>\n",
              "    </tr>\n",
              "    <tr>\n",
              "      <th>min</th>\n",
              "      <td>0.000000</td>\n",
              "      <td>7.500000</td>\n",
              "      <td>8.400000</td>\n",
              "      <td>8.800000</td>\n",
              "      <td>1.728400</td>\n",
              "      <td>1.047600</td>\n",
              "    </tr>\n",
              "    <tr>\n",
              "      <th>25%</th>\n",
              "      <td>120.000000</td>\n",
              "      <td>19.050000</td>\n",
              "      <td>21.000000</td>\n",
              "      <td>23.150000</td>\n",
              "      <td>5.944800</td>\n",
              "      <td>3.385650</td>\n",
              "    </tr>\n",
              "    <tr>\n",
              "      <th>50%</th>\n",
              "      <td>273.000000</td>\n",
              "      <td>25.200000</td>\n",
              "      <td>27.300000</td>\n",
              "      <td>29.400000</td>\n",
              "      <td>7.786000</td>\n",
              "      <td>4.248500</td>\n",
              "    </tr>\n",
              "    <tr>\n",
              "      <th>75%</th>\n",
              "      <td>650.000000</td>\n",
              "      <td>32.700000</td>\n",
              "      <td>35.500000</td>\n",
              "      <td>39.650000</td>\n",
              "      <td>12.365900</td>\n",
              "      <td>5.584500</td>\n",
              "    </tr>\n",
              "    <tr>\n",
              "      <th>max</th>\n",
              "      <td>1650.000000</td>\n",
              "      <td>59.000000</td>\n",
              "      <td>63.400000</td>\n",
              "      <td>68.000000</td>\n",
              "      <td>18.957000</td>\n",
              "      <td>8.142000</td>\n",
              "    </tr>\n",
              "  </tbody>\n",
              "</table>\n",
              "</div>"
            ],
            "text/plain": [
              "            Weight     Length1     Length2     Length3      Height       Width\n",
              "count   159.000000  159.000000  159.000000  159.000000  159.000000  159.000000\n",
              "mean    398.326415   26.247170   28.415723   31.227044    8.970994    4.417486\n",
              "std     357.978317    9.996441   10.716328   11.610246    4.286208    1.685804\n",
              "min       0.000000    7.500000    8.400000    8.800000    1.728400    1.047600\n",
              "25%     120.000000   19.050000   21.000000   23.150000    5.944800    3.385650\n",
              "50%     273.000000   25.200000   27.300000   29.400000    7.786000    4.248500\n",
              "75%     650.000000   32.700000   35.500000   39.650000   12.365900    5.584500\n",
              "max    1650.000000   59.000000   63.400000   68.000000   18.957000    8.142000"
            ]
          },
          "metadata": {
            "tags": []
          },
          "execution_count": 6
        }
      ]
    },
    {
      "cell_type": "code",
      "metadata": {
        "id": "GsHWlyfzA2wF",
        "colab_type": "code",
        "colab": {
          "base_uri": "https://localhost:8080/",
          "height": 34
        },
        "outputId": "7e07b415-5b71-4f80-aa3c-a10290f99772"
      },
      "source": [
        "fish.shape"
      ],
      "execution_count": null,
      "outputs": [
        {
          "output_type": "execute_result",
          "data": {
            "text/plain": [
              "(159, 7)"
            ]
          },
          "metadata": {
            "tags": []
          },
          "execution_count": 7
        }
      ]
    },
    {
      "cell_type": "code",
      "metadata": {
        "id": "-67lKofZBGcD",
        "colab_type": "code",
        "colab": {
          "base_uri": "https://localhost:8080/",
          "height": 52
        },
        "outputId": "f13d4dc8-c9a7-489a-8f36-0a22054eb27b"
      },
      "source": [
        "fish['Species'].unique()"
      ],
      "execution_count": null,
      "outputs": [
        {
          "output_type": "execute_result",
          "data": {
            "text/plain": [
              "array(['Bream', 'Roach', 'Whitefish', 'Parkki', 'Perch', 'Pike', 'Smelt'],\n",
              "      dtype=object)"
            ]
          },
          "metadata": {
            "tags": []
          },
          "execution_count": 8
        }
      ]
    },
    {
      "cell_type": "code",
      "metadata": {
        "id": "Hvq3sVQ66tZN",
        "colab_type": "code",
        "colab": {
          "base_uri": "https://localhost:8080/",
          "height": 173
        },
        "outputId": "13d5658f-4edb-4c7f-d97b-aaf1a6234e09"
      },
      "source": [
        "print(fish.groupby('Species').size())"
      ],
      "execution_count": null,
      "outputs": [
        {
          "output_type": "stream",
          "text": [
            "Species\n",
            "Bream        35\n",
            "Parkki       11\n",
            "Perch        56\n",
            "Pike         17\n",
            "Roach        20\n",
            "Smelt        14\n",
            "Whitefish     6\n",
            "dtype: int64\n"
          ],
          "name": "stdout"
        }
      ]
    },
    {
      "cell_type": "code",
      "metadata": {
        "id": "ifP_cD4_-H30",
        "colab_type": "code",
        "colab": {
          "base_uri": "https://localhost:8080/",
          "height": 675
        },
        "outputId": "a4fe5ea6-ed08-4183-c1da-161a4ce514fa"
      },
      "source": [
        "import pylab as pl\n",
        "fish.drop('Species' ,axis=1).hist(bins=30, figsize=(9,9))\n"
      ],
      "execution_count": null,
      "outputs": [
        {
          "output_type": "execute_result",
          "data": {
            "text/plain": [
              "array([[<matplotlib.axes._subplots.AxesSubplot object at 0x7fcabc73f400>,\n",
              "        <matplotlib.axes._subplots.AxesSubplot object at 0x7fcabc71a6d8>],\n",
              "       [<matplotlib.axes._subplots.AxesSubplot object at 0x7fcabc6cc940>,\n",
              "        <matplotlib.axes._subplots.AxesSubplot object at 0x7fcabc67fba8>],\n",
              "       [<matplotlib.axes._subplots.AxesSubplot object at 0x7fcabc62ee10>,\n",
              "        <matplotlib.axes._subplots.AxesSubplot object at 0x7fcabc5eb0b8>]],\n",
              "      dtype=object)"
            ]
          },
          "metadata": {
            "tags": []
          },
          "execution_count": 10
        },
        {
          "output_type": "display_data",
          "data": {
            "image/png": "[encoded data removed]",
            "text/plain": [
              "<Figure size 648x648 with 6 Axes>"
            ]
          },
          "metadata": {
            "tags": [],
            "needs_background": "light"
          }
        }
      ]
    },
    {
      "cell_type": "code",
      "metadata": {
        "id": "Vs6Udu2u_bre",
        "colab_type": "code",
        "colab": {
          "base_uri": "https://localhost:8080/",
          "height": 132
        },
        "outputId": "7753e5f6-bb48-4c66-bbf9-1e8b97932f78"
      },
      "source": [
        "from pandas.plotting import scatter_matrix\n",
        "from matplotlib import cm \n",
        "feature_names = ['Bream', 'Roach', 'Whitefish', 'Parkki', 'Perch', 'Pike', 'Smelt]\n",
        "X = fish[feature_names]\n",
        "feature_labels = ['Weight'  \"Length1\"   \"Length2\"   \"Length3\"   \"Height\"    'Width']\n",
        "y = fish[feature_labels]\n",
        "cmap = cm.get_cmap('gnuplot')\n",
        "scatter = pd.scatter_matrix(X, c = y, marker = 'o', s=40, hist_kwds={'bins':15}, figsize=(9,9), cmap = cmap)\n",
        "plt.suptitle('Scatter-matrix for each input variable')\n",
        "plt.savefig('fruits_scatter_matrix')"
      ],
      "execution_count": null,
      "outputs": [
        {
          "output_type": "error",
          "ename": "SyntaxError",
          "evalue": "ignored",
          "traceback": [
            "\u001b[0;36m  File \u001b[0;32m\"<ipython-input-11-0b6dbcc07228>\"\u001b[0;36m, line \u001b[0;32m3\u001b[0m\n\u001b[0;31m    feature_names = ['Bream', 'Roach', 'Whitefish', 'Parkki', 'Perch', 'Pike', 'Smelt]\u001b[0m\n\u001b[0m                                                                                      ^\u001b[0m\n\u001b[0;31mSyntaxError\u001b[0m\u001b[0;31m:\u001b[0m EOL while scanning string literal\n"
          ]
        }
      ]
    },
    {
      "cell_type": "code",
      "metadata": {
        "id": "V2LDAAemBIut",
        "colab_type": "code",
        "colab": {
          "base_uri": "https://localhost:8080/",
          "height": 156
        },
        "outputId": "1908b1cd-7e51-40a3-bffe-10cbf2b76cd1"
      },
      "source": [
        "fish[\"Species\"].value_counts()"
      ],
      "execution_count": null,
      "outputs": [
        {
          "output_type": "execute_result",
          "data": {
            "text/plain": [
              "Perch        56\n",
              "Bream        35\n",
              "Roach        20\n",
              "Pike         17\n",
              "Smelt        14\n",
              "Parkki       11\n",
              "Whitefish     6\n",
              "Name: Species, dtype: int64"
            ]
          },
          "metadata": {
            "tags": []
          },
          "execution_count": 12
        }
      ]
    },
    {
      "cell_type": "code",
      "metadata": {
        "id": "uddqzGRTKF4U",
        "colab_type": "code",
        "colab": {
          "base_uri": "https://localhost:8080/",
          "height": 86
        },
        "outputId": "7c2038b5-a915-4c8e-898a-2488117d3f3e"
      },
      "source": [
        "\n",
        "\n",
        "print(\"Total length :\",len(fish))\n",
        "i = int(len(fish) * .8)\n",
        "print(\"80 % =\",i)\n",
        "print(\"20 % =\",int(len(fish) * .2))\n",
        "print(\"Total :\", 1780 + 445)\n",
        "\n"
      ],
      "execution_count": null,
      "outputs": [
        {
          "output_type": "stream",
          "text": [
            "Total length : 159\n",
            "80 % = 127\n",
            "20 % = 31\n",
            "Total : 2225\n"
          ],
          "name": "stdout"
        }
      ]
    },
    {
      "cell_type": "code",
      "metadata": {
        "id": "egh4DL5ZNJZ7",
        "colab_type": "code",
        "colab": {
          "base_uri": "https://localhost:8080/",
          "height": 424
        },
        "outputId": "6f8f428b-24e7-42fe-d935-0eceaaf0f557"
      },
      "source": [
        "display(fish)"
      ],
      "execution_count": null,
      "outputs": [
        {
          "output_type": "display_data",
          "data": {
            "text/html": [
              "<div>\n",
              "<style scoped>\n",
              "    .dataframe tbody tr th:only-of-type {\n",
              "        vertical-align: middle;\n",
              "    }\n",
              "\n",
              "    .dataframe tbody tr th {\n",
              "        vertical-align: top;\n",
              "    }\n",
              "\n",
              "    .dataframe thead th {\n",
              "        text-align: right;\n",
              "    }\n",
              "</style>\n",
              "<table border=\"1\" class=\"dataframe\">\n",
              "  <thead>\n",
              "    <tr style=\"text-align: right;\">\n",
              "      <th></th>\n",
              "      <th>Species</th>\n",
              "      <th>Weight</th>\n",
              "      <th>Length1</th>\n",
              "      <th>Length2</th>\n",
              "      <th>Length3</th>\n",
              "      <th>Height</th>\n",
              "      <th>Width</th>\n",
              "    </tr>\n",
              "  </thead>\n",
              "  <tbody>\n",
              "    <tr>\n",
              "      <th>0</th>\n",
              "      <td>Bream</td>\n",
              "      <td>242.0</td>\n",
              "      <td>23.2</td>\n",
              "      <td>25.4</td>\n",
              "      <td>30.0</td>\n",
              "      <td>11.5200</td>\n",
              "      <td>4.0200</td>\n",
              "    </tr>\n",
              "    <tr>\n",
              "      <th>1</th>\n",
              "      <td>Bream</td>\n",
              "      <td>290.0</td>\n",
              "      <td>24.0</td>\n",
              "      <td>26.3</td>\n",
              "      <td>31.2</td>\n",
              "      <td>12.4800</td>\n",
              "      <td>4.3056</td>\n",
              "    </tr>\n",
              "    <tr>\n",
              "      <th>2</th>\n",
              "      <td>Bream</td>\n",
              "      <td>340.0</td>\n",
              "      <td>23.9</td>\n",
              "      <td>26.5</td>\n",
              "      <td>31.1</td>\n",
              "      <td>12.3778</td>\n",
              "      <td>4.6961</td>\n",
              "    </tr>\n",
              "    <tr>\n",
              "      <th>3</th>\n",
              "      <td>Bream</td>\n",
              "      <td>363.0</td>\n",
              "      <td>26.3</td>\n",
              "      <td>29.0</td>\n",
              "      <td>33.5</td>\n",
              "      <td>12.7300</td>\n",
              "      <td>4.4555</td>\n",
              "    </tr>\n",
              "    <tr>\n",
              "      <th>4</th>\n",
              "      <td>Bream</td>\n",
              "      <td>430.0</td>\n",
              "      <td>26.5</td>\n",
              "      <td>29.0</td>\n",
              "      <td>34.0</td>\n",
              "      <td>12.4440</td>\n",
              "      <td>5.1340</td>\n",
              "    </tr>\n",
              "    <tr>\n",
              "      <th>...</th>\n",
              "      <td>...</td>\n",
              "      <td>...</td>\n",
              "      <td>...</td>\n",
              "      <td>...</td>\n",
              "      <td>...</td>\n",
              "      <td>...</td>\n",
              "      <td>...</td>\n",
              "    </tr>\n",
              "    <tr>\n",
              "      <th>154</th>\n",
              "      <td>Smelt</td>\n",
              "      <td>12.2</td>\n",
              "      <td>11.5</td>\n",
              "      <td>12.2</td>\n",
              "      <td>13.4</td>\n",
              "      <td>2.0904</td>\n",
              "      <td>1.3936</td>\n",
              "    </tr>\n",
              "    <tr>\n",
              "      <th>155</th>\n",
              "      <td>Smelt</td>\n",
              "      <td>13.4</td>\n",
              "      <td>11.7</td>\n",
              "      <td>12.4</td>\n",
              "      <td>13.5</td>\n",
              "      <td>2.4300</td>\n",
              "      <td>1.2690</td>\n",
              "    </tr>\n",
              "    <tr>\n",
              "      <th>156</th>\n",
              "      <td>Smelt</td>\n",
              "      <td>12.2</td>\n",
              "      <td>12.1</td>\n",
              "      <td>13.0</td>\n",
              "      <td>13.8</td>\n",
              "      <td>2.2770</td>\n",
              "      <td>1.2558</td>\n",
              "    </tr>\n",
              "    <tr>\n",
              "      <th>157</th>\n",
              "      <td>Smelt</td>\n",
              "      <td>19.7</td>\n",
              "      <td>13.2</td>\n",
              "      <td>14.3</td>\n",
              "      <td>15.2</td>\n",
              "      <td>2.8728</td>\n",
              "      <td>2.0672</td>\n",
              "    </tr>\n",
              "    <tr>\n",
              "      <th>158</th>\n",
              "      <td>Smelt</td>\n",
              "      <td>19.9</td>\n",
              "      <td>13.8</td>\n",
              "      <td>15.0</td>\n",
              "      <td>16.2</td>\n",
              "      <td>2.9322</td>\n",
              "      <td>1.8792</td>\n",
              "    </tr>\n",
              "  </tbody>\n",
              "</table>\n",
              "<p>159 rows × 7 columns</p>\n",
              "</div>"
            ],
            "text/plain": [
              "    Species  Weight  Length1  Length2  Length3   Height   Width\n",
              "0     Bream   242.0     23.2     25.4     30.0  11.5200  4.0200\n",
              "1     Bream   290.0     24.0     26.3     31.2  12.4800  4.3056\n",
              "2     Bream   340.0     23.9     26.5     31.1  12.3778  4.6961\n",
              "3     Bream   363.0     26.3     29.0     33.5  12.7300  4.4555\n",
              "4     Bream   430.0     26.5     29.0     34.0  12.4440  5.1340\n",
              "..      ...     ...      ...      ...      ...      ...     ...\n",
              "154   Smelt    12.2     11.5     12.2     13.4   2.0904  1.3936\n",
              "155   Smelt    13.4     11.7     12.4     13.5   2.4300  1.2690\n",
              "156   Smelt    12.2     12.1     13.0     13.8   2.2770  1.2558\n",
              "157   Smelt    19.7     13.2     14.3     15.2   2.8728  2.0672\n",
              "158   Smelt    19.9     13.8     15.0     16.2   2.9322  1.8792\n",
              "\n",
              "[159 rows x 7 columns]"
            ]
          },
          "metadata": {
            "tags": []
          }
        }
      ]
    },
    {
      "cell_type": "code",
      "metadata": {
        "id": "4vCvcGjnNNDP",
        "colab_type": "code",
        "colab": {
          "base_uri": "https://localhost:8080/",
          "height": 206
        },
        "outputId": "f5f2d1a3-adc7-4a7d-ea33-6cc0d5c9c3b5"
      },
      "source": [
        "\n",
        "from sklearn.preprocessing import LabelEncoder\n",
        "leb = LabelEncoder\n",
        "fish[\"Species\"] = leb.fit_transform(fish[\"Species\"],fish[\"Species\"])\n",
        "fish.tail()"
      ],
      "execution_count": null,
      "outputs": [
        {
          "output_type": "execute_result",
          "data": {
            "text/html": [
              "<div>\n",
              "<style scoped>\n",
              "    .dataframe tbody tr th:only-of-type {\n",
              "        vertical-align: middle;\n",
              "    }\n",
              "\n",
              "    .dataframe tbody tr th {\n",
              "        vertical-align: top;\n",
              "    }\n",
              "\n",
              "    .dataframe thead th {\n",
              "        text-align: right;\n",
              "    }\n",
              "</style>\n",
              "<table border=\"1\" class=\"dataframe\">\n",
              "  <thead>\n",
              "    <tr style=\"text-align: right;\">\n",
              "      <th></th>\n",
              "      <th>Species</th>\n",
              "      <th>Weight</th>\n",
              "      <th>Length1</th>\n",
              "      <th>Length2</th>\n",
              "      <th>Length3</th>\n",
              "      <th>Height</th>\n",
              "      <th>Width</th>\n",
              "    </tr>\n",
              "  </thead>\n",
              "  <tbody>\n",
              "    <tr>\n",
              "      <th>154</th>\n",
              "      <td>5</td>\n",
              "      <td>12.2</td>\n",
              "      <td>11.5</td>\n",
              "      <td>12.2</td>\n",
              "      <td>13.4</td>\n",
              "      <td>2.0904</td>\n",
              "      <td>1.3936</td>\n",
              "    </tr>\n",
              "    <tr>\n",
              "      <th>155</th>\n",
              "      <td>5</td>\n",
              "      <td>13.4</td>\n",
              "      <td>11.7</td>\n",
              "      <td>12.4</td>\n",
              "      <td>13.5</td>\n",
              "      <td>2.4300</td>\n",
              "      <td>1.2690</td>\n",
              "    </tr>\n",
              "    <tr>\n",
              "      <th>156</th>\n",
              "      <td>5</td>\n",
              "      <td>12.2</td>\n",
              "      <td>12.1</td>\n",
              "      <td>13.0</td>\n",
              "      <td>13.8</td>\n",
              "      <td>2.2770</td>\n",
              "      <td>1.2558</td>\n",
              "    </tr>\n",
              "    <tr>\n",
              "      <th>157</th>\n",
              "      <td>5</td>\n",
              "      <td>19.7</td>\n",
              "      <td>13.2</td>\n",
              "      <td>14.3</td>\n",
              "      <td>15.2</td>\n",
              "      <td>2.8728</td>\n",
              "      <td>2.0672</td>\n",
              "    </tr>\n",
              "    <tr>\n",
              "      <th>158</th>\n",
              "      <td>5</td>\n",
              "      <td>19.9</td>\n",
              "      <td>13.8</td>\n",
              "      <td>15.0</td>\n",
              "      <td>16.2</td>\n",
              "      <td>2.9322</td>\n",
              "      <td>1.8792</td>\n",
              "    </tr>\n",
              "  </tbody>\n",
              "</table>\n",
              "</div>"
            ],
            "text/plain": [
              "     Species  Weight  Length1  Length2  Length3  Height   Width\n",
              "154        5    12.2     11.5     12.2     13.4  2.0904  1.3936\n",
              "155        5    13.4     11.7     12.4     13.5  2.4300  1.2690\n",
              "156        5    12.2     12.1     13.0     13.8  2.2770  1.2558\n",
              "157        5    19.7     13.2     14.3     15.2  2.8728  2.0672\n",
              "158        5    19.9     13.8     15.0     16.2  2.9322  1.8792"
            ]
          },
          "metadata": {
            "tags": []
          },
          "execution_count": 15
        }
      ]
    },
    {
      "cell_type": "code",
      "metadata": {
        "id": "QF2rD5NXNwXo",
        "colab_type": "code",
        "colab": {}
      },
      "source": [
        "fish[\"Species\"] = fish[\"Species\"].astype('float')"
      ],
      "execution_count": null,
      "outputs": []
    },
    {
      "cell_type": "code",
      "metadata": {
        "id": "abRm7wpdOF-Q",
        "colab_type": "code",
        "colab": {
          "base_uri": "https://localhost:8080/",
          "height": 424
        },
        "outputId": "2c01d8f4-0aa9-4a51-8320-7a90ffc1fadf"
      },
      "source": [
        "display(fish)"
      ],
      "execution_count": null,
      "outputs": [
        {
          "output_type": "display_data",
          "data": {
            "text/html": [
              "<div>\n",
              "<style scoped>\n",
              "    .dataframe tbody tr th:only-of-type {\n",
              "        vertical-align: middle;\n",
              "    }\n",
              "\n",
              "    .dataframe tbody tr th {\n",
              "        vertical-align: top;\n",
              "    }\n",
              "\n",
              "    .dataframe thead th {\n",
              "        text-align: right;\n",
              "    }\n",
              "</style>\n",
              "<table border=\"1\" class=\"dataframe\">\n",
              "  <thead>\n",
              "    <tr style=\"text-align: right;\">\n",
              "      <th></th>\n",
              "      <th>Species</th>\n",
              "      <th>Weight</th>\n",
              "      <th>Length1</th>\n",
              "      <th>Length2</th>\n",
              "      <th>Length3</th>\n",
              "      <th>Height</th>\n",
              "      <th>Width</th>\n",
              "    </tr>\n",
              "  </thead>\n",
              "  <tbody>\n",
              "    <tr>\n",
              "      <th>0</th>\n",
              "      <td>0.0</td>\n",
              "      <td>242.0</td>\n",
              "      <td>23.2</td>\n",
              "      <td>25.4</td>\n",
              "      <td>30.0</td>\n",
              "      <td>11.5200</td>\n",
              "      <td>4.0200</td>\n",
              "    </tr>\n",
              "    <tr>\n",
              "      <th>1</th>\n",
              "      <td>0.0</td>\n",
              "      <td>290.0</td>\n",
              "      <td>24.0</td>\n",
              "      <td>26.3</td>\n",
              "      <td>31.2</td>\n",
              "      <td>12.4800</td>\n",
              "      <td>4.3056</td>\n",
              "    </tr>\n",
              "    <tr>\n",
              "      <th>2</th>\n",
              "      <td>0.0</td>\n",
              "      <td>340.0</td>\n",
              "      <td>23.9</td>\n",
              "      <td>26.5</td>\n",
              "      <td>31.1</td>\n",
              "      <td>12.3778</td>\n",
              "      <td>4.6961</td>\n",
              "    </tr>\n",
              "    <tr>\n",
              "      <th>3</th>\n",
              "      <td>0.0</td>\n",
              "      <td>363.0</td>\n",
              "      <td>26.3</td>\n",
              "      <td>29.0</td>\n",
              "      <td>33.5</td>\n",
              "      <td>12.7300</td>\n",
              "      <td>4.4555</td>\n",
              "    </tr>\n",
              "    <tr>\n",
              "      <th>4</th>\n",
              "      <td>0.0</td>\n",
              "      <td>430.0</td>\n",
              "      <td>26.5</td>\n",
              "      <td>29.0</td>\n",
              "      <td>34.0</td>\n",
              "      <td>12.4440</td>\n",
              "      <td>5.1340</td>\n",
              "    </tr>\n",
              "    <tr>\n",
              "      <th>...</th>\n",
              "      <td>...</td>\n",
              "      <td>...</td>\n",
              "      <td>...</td>\n",
              "      <td>...</td>\n",
              "      <td>...</td>\n",
              "      <td>...</td>\n",
              "      <td>...</td>\n",
              "    </tr>\n",
              "    <tr>\n",
              "      <th>154</th>\n",
              "      <td>5.0</td>\n",
              "      <td>12.2</td>\n",
              "      <td>11.5</td>\n",
              "      <td>12.2</td>\n",
              "      <td>13.4</td>\n",
              "      <td>2.0904</td>\n",
              "      <td>1.3936</td>\n",
              "    </tr>\n",
              "    <tr>\n",
              "      <th>155</th>\n",
              "      <td>5.0</td>\n",
              "      <td>13.4</td>\n",
              "      <td>11.7</td>\n",
              "      <td>12.4</td>\n",
              "      <td>13.5</td>\n",
              "      <td>2.4300</td>\n",
              "      <td>1.2690</td>\n",
              "    </tr>\n",
              "    <tr>\n",
              "      <th>156</th>\n",
              "      <td>5.0</td>\n",
              "      <td>12.2</td>\n",
              "      <td>12.1</td>\n",
              "      <td>13.0</td>\n",
              "      <td>13.8</td>\n",
              "      <td>2.2770</td>\n",
              "      <td>1.2558</td>\n",
              "    </tr>\n",
              "    <tr>\n",
              "      <th>157</th>\n",
              "      <td>5.0</td>\n",
              "      <td>19.7</td>\n",
              "      <td>13.2</td>\n",
              "      <td>14.3</td>\n",
              "      <td>15.2</td>\n",
              "      <td>2.8728</td>\n",
              "      <td>2.0672</td>\n",
              "    </tr>\n",
              "    <tr>\n",
              "      <th>158</th>\n",
              "      <td>5.0</td>\n",
              "      <td>19.9</td>\n",
              "      <td>13.8</td>\n",
              "      <td>15.0</td>\n",
              "      <td>16.2</td>\n",
              "      <td>2.9322</td>\n",
              "      <td>1.8792</td>\n",
              "    </tr>\n",
              "  </tbody>\n",
              "</table>\n",
              "<p>159 rows × 7 columns</p>\n",
              "</div>"
            ],
            "text/plain": [
              "     Species  Weight  Length1  Length2  Length3   Height   Width\n",
              "0        0.0   242.0     23.2     25.4     30.0  11.5200  4.0200\n",
              "1        0.0   290.0     24.0     26.3     31.2  12.4800  4.3056\n",
              "2        0.0   340.0     23.9     26.5     31.1  12.3778  4.6961\n",
              "3        0.0   363.0     26.3     29.0     33.5  12.7300  4.4555\n",
              "4        0.0   430.0     26.5     29.0     34.0  12.4440  5.1340\n",
              "..       ...     ...      ...      ...      ...      ...     ...\n",
              "154      5.0    12.2     11.5     12.2     13.4   2.0904  1.3936\n",
              "155      5.0    13.4     11.7     12.4     13.5   2.4300  1.2690\n",
              "156      5.0    12.2     12.1     13.0     13.8   2.2770  1.2558\n",
              "157      5.0    19.7     13.2     14.3     15.2   2.8728  2.0672\n",
              "158      5.0    19.9     13.8     15.0     16.2   2.9322  1.8792\n",
              "\n",
              "[159 rows x 7 columns]"
            ]
          },
          "metadata": {
            "tags": []
          }
        }
      ]
    },
    {
      "cell_type": "code",
      "metadata": {
        "id": "6DZRDTqrOPqm",
        "colab_type": "code",
        "colab": {}
      },
      "source": [
        "import numpy as np\n",
        "\n",
        "features_array = np.array(fish.drop([\"Species\"],axis=1))\n",
        "labels_array = np.array(fish[\"Species\"])\n",
        "features_array = np.array(fish.drop([\"Species\"],axis=1))\n",
        "\n",
        "from sklearn.model_selection import train_test_split\n",
        "\n",
        "X_train, X_test, y_train, y_test = train_test_split(features_array, labels_array, test_size=0.25, random_state=1)"
      ],
      "execution_count": null,
      "outputs": []
    },
    {
      "cell_type": "code",
      "metadata": {
        "id": "KI26QYWOX418",
        "colab_type": "code",
        "colab": {
          "base_uri": "https://localhost:8080/",
          "height": 156
        },
        "outputId": "7344a50b-f625-4566-b8f2-747905204b07"
      },
      "source": [
        "print(\"Train features:\",X_train.shape)\n",
        "print(\"Train Labels:  \",y_train.shape)\n",
        "print(\"Test Features: \",X_test.shape)\n",
        "print(\"Test Labels:   \",y_test.shape)\n",
        "print(\"Dimention: \",X_train.ndim)\n",
        "print(\"Dimention: \",y_train.ndim)\n",
        "print(\"Dimention: \",X_test.ndim)\n",
        "print(\"Dimention: \",y_test.ndim)"
      ],
      "execution_count": null,
      "outputs": [
        {
          "output_type": "stream",
          "text": [
            "Train features: (119, 6)\n",
            "Train Labels:   (119,)\n",
            "Test Features:  (40, 6)\n",
            "Test Labels:    (40,)\n",
            "Dimention:  2\n",
            "Dimention:  1\n",
            "Dimention:  2\n",
            "Dimention:  1\n"
          ],
          "name": "stdout"
        }
      ]
    },
    {
      "cell_type": "code",
      "metadata": {
        "id": "mPQd1VtCYk-b",
        "colab_type": "code",
        "colab": {}
      },
      "source": [
        "new_X_train = X_train.reshape(119,6)\n",
        "new_X_test = X_test.reshape(40,6)"
      ],
      "execution_count": null,
      "outputs": []
    },
    {
      "cell_type": "code",
      "metadata": {
        "id": "IuoV6pOSYlEZ",
        "colab_type": "code",
        "colab": {}
      },
      "source": [
        "from tensorflow.keras.utils import to_categorical\n",
        "\n",
        "y_train = to_categorical(y_train) \n",
        "y_test = to_categorical(y_test)"
      ],
      "execution_count": null,
      "outputs": []
    },
    {
      "cell_type": "code",
      "metadata": {
        "id": "pMOXiw5SYlLk",
        "colab_type": "code",
        "colab": {
          "base_uri": "https://localhost:8080/",
          "height": 121
        },
        "outputId": "cb274eb5-af45-479f-d309-b05e1d63f327"
      },
      "source": [
        "print(new_X_train.ndim)\n",
        "print(new_X_test.ndim)\n",
        "print(\"Train features:\",new_X_train.shape)\n",
        "print(\"Train Labels:  \",y_train.shape)\n",
        "print(\"Test Features: \",new_X_test.shape)\n",
        "print(\"Test Labels:   \",y_test.shape)"
      ],
      "execution_count": null,
      "outputs": [
        {
          "output_type": "stream",
          "text": [
            "2\n",
            "2\n",
            "Train features: (119, 6)\n",
            "Train Labels:   (119, 9)\n",
            "Test Features:  (40, 6)\n",
            "Test Labels:    (40, 7)\n"
          ],
          "name": "stdout"
        }
      ]
    },
    {
      "cell_type": "code",
      "metadata": {
        "id": "zUl-qBKgYlQa",
        "colab_type": "code",
        "colab": {
          "base_uri": "https://localhost:8080/",
          "height": 364
        },
        "outputId": "cd71c2f9-fd34-421f-a005-e4200f7ed35c"
      },
      "source": [
        "models = tf.keras.Sequential\n",
        "layers = tf.keras.layers\n",
        "\n",
        "model = models([layers.Dense(512,activation=\"relu\",input_shape=(6,)),\n",
        "                layers.Dense(64,activation=\"relu\"),\n",
        "                layers.Dense(16,activation=\"relu\"),\n",
        "                layers.Dense(9, activation='softmax')])\n",
        "\n",
        "model.compile(optimizer=\"adam\", # adam # rmsprop\n",
        "             loss=\"categorical_crossentropy\",\n",
        "             metrics=[\"accuracy\"])\n",
        "\n",
        "history = model.fit(new_X_train,y_train,epochs=10,validation_split=(0.2))"
      ],
      "execution_count": null,
      "outputs": [
        {
          "output_type": "stream",
          "text": [
            "Epoch 1/10\n",
            "3/3 [==============================] - 0s 48ms/step - loss: 21.4978 - accuracy: 0.0421 - val_loss: 6.4384 - val_accuracy: 0.1250\n",
            "Epoch 2/10\n",
            "3/3 [==============================] - 0s 7ms/step - loss: 4.7330 - accuracy: 0.1684 - val_loss: 3.9257 - val_accuracy: 0.2083\n",
            "Epoch 3/10\n",
            "3/3 [==============================] - 0s 8ms/step - loss: 3.3080 - accuracy: 0.2105 - val_loss: 3.0298 - val_accuracy: 0.1250\n",
            "Epoch 4/10\n",
            "3/3 [==============================] - 0s 8ms/step - loss: 2.6933 - accuracy: 0.1053 - val_loss: 2.7494 - val_accuracy: 0.0417\n",
            "Epoch 5/10\n",
            "3/3 [==============================] - 0s 8ms/step - loss: 2.3779 - accuracy: 0.1789 - val_loss: 1.8593 - val_accuracy: 0.2917\n",
            "Epoch 6/10\n",
            "3/3 [==============================] - 0s 10ms/step - loss: 1.9030 - accuracy: 0.2421 - val_loss: 1.7731 - val_accuracy: 0.3333\n",
            "Epoch 7/10\n",
            "3/3 [==============================] - 0s 8ms/step - loss: 1.7967 - accuracy: 0.3263 - val_loss: 1.9074 - val_accuracy: 0.4167\n",
            "Epoch 8/10\n",
            "3/3 [==============================] - 0s 10ms/step - loss: 1.6774 - accuracy: 0.3684 - val_loss: 1.8656 - val_accuracy: 0.2917\n",
            "Epoch 9/10\n",
            "3/3 [==============================] - 0s 8ms/step - loss: 1.5916 - accuracy: 0.3684 - val_loss: 1.8679 - val_accuracy: 0.2500\n",
            "Epoch 10/10\n",
            "3/3 [==============================] - 0s 8ms/step - loss: 1.5288 - accuracy: 0.4000 - val_loss: 1.8791 - val_accuracy: 0.2917\n"
          ],
          "name": "stdout"
        }
      ]
    },
    {
      "cell_type": "code",
      "metadata": {
        "id": "NOL1xm5LYlW6",
        "colab_type": "code",
        "colab": {
          "base_uri": "https://localhost:8080/",
          "height": 295
        },
        "outputId": "1bb325f5-a0bb-45a0-bd2b-a4aa00911db6"
      },
      "source": [
        "loss = history.history['loss']\n",
        "val_loss = history.history['val_loss']\n",
        "\n",
        "epochs = range(1, len(loss) + 1)\n",
        "\n",
        "plt.plot(epochs, loss, 'bo', label='Training loss')\n",
        "plt.plot(epochs, val_loss, 'b', label='Validation loss')\n",
        "plt.title('Training and validation loss')\n",
        "plt.xlabel('Epochs')\n",
        "plt.ylabel('Loss')\n",
        "plt.legend()\n",
        "plt.show()"
      ],
      "execution_count": null,
      "outputs": [
        {
          "output_type": "display_data",
          "data": {
            "image/png": "[encoded data removed]",
            "text/plain": [
              "<Figure size 432x288 with 1 Axes>"
            ]
          },
          "metadata": {
            "tags": [],
            "needs_background": "light"
          }
        }
      ]
    },
    {
      "cell_type": "code",
      "metadata": {
        "id": "xOgW0VBCaOJ7",
        "colab_type": "code",
        "colab": {
          "base_uri": "https://localhost:8080/",
          "height": 295
        },
        "outputId": "e756d699-bc0c-4880-a92d-7e602db952de"
      },
      "source": [
        "acc = history.history['accuracy']\n",
        "val_acc = history.history['val_accuracy']\n",
        "\n",
        "epochs = range(1, len(acc) + 1)\n",
        "\n",
        "plt.plot(epochs, acc, 'bo', label='Training acc')\n",
        "plt.plot(epochs, val_acc, 'b', label='Validation acc')\n",
        "plt.title('Training and validation acc')\n",
        "plt.xlabel('Epochs')\n",
        "plt.ylabel('acc')\n",
        "plt.legend()\n",
        "plt.show()"
      ],
      "execution_count": null,
      "outputs": [
        {
          "output_type": "display_data",
          "data": {
            "image/png": "[encoded data removed]",
            "text/plain": [
              "<Figure size 432x288 with 1 Axes>"
            ]
          },
          "metadata": {
            "tags": [],
            "needs_background": "light"
          }
        }
      ]
    },
    {
      "cell_type": "code",
      "metadata": {
        "id": "sO3cuDaZO59d",
        "colab_type": "code",
        "colab": {
          "base_uri": "https://localhost:8080/",
          "height": 86
        },
        "outputId": "bfbbf3e7-9a66-4a1c-cd2e-70d84504b37d"
      },
      "source": [
        "print(\"training feature :\",X_train.shape) \n",
        "print(\"training labels :\",y_train.shape)\n",
        "print(\"testing feature :\",X_test.shape)\n",
        "print(\"testing labels :\",y_test.shape)"
      ],
      "execution_count": null,
      "outputs": [
        {
          "output_type": "stream",
          "text": [
            "training feature : (119, 6)\n",
            "training labels : (119, 7, 2)\n",
            "testing feature : (40, 6)\n",
            "testing labels : (40, 7, 2)\n"
          ],
          "name": "stdout"
        }
      ]
    },
    {
      "cell_type": "code",
      "metadata": {
        "id": "rwRWwsUjO_a7",
        "colab_type": "code",
        "colab": {
          "base_uri": "https://localhost:8080/",
          "height": 424
        },
        "outputId": "3558d213-b3a9-49bf-ac3e-0a57e2817812"
      },
      "source": [
        "display(fish)"
      ],
      "execution_count": null,
      "outputs": [
        {
          "output_type": "display_data",
          "data": {
            "text/html": [
              "<div>\n",
              "<style scoped>\n",
              "    .dataframe tbody tr th:only-of-type {\n",
              "        vertical-align: middle;\n",
              "    }\n",
              "\n",
              "    .dataframe tbody tr th {\n",
              "        vertical-align: top;\n",
              "    }\n",
              "\n",
              "    .dataframe thead th {\n",
              "        text-align: right;\n",
              "    }\n",
              "</style>\n",
              "<table border=\"1\" class=\"dataframe\">\n",
              "  <thead>\n",
              "    <tr style=\"text-align: right;\">\n",
              "      <th></th>\n",
              "      <th>Species</th>\n",
              "      <th>Weight</th>\n",
              "      <th>Length1</th>\n",
              "      <th>Length2</th>\n",
              "      <th>Length3</th>\n",
              "      <th>Height</th>\n",
              "      <th>Width</th>\n",
              "    </tr>\n",
              "  </thead>\n",
              "  <tbody>\n",
              "    <tr>\n",
              "      <th>0</th>\n",
              "      <td>0.0</td>\n",
              "      <td>242.0</td>\n",
              "      <td>23.2</td>\n",
              "      <td>25.4</td>\n",
              "      <td>30.0</td>\n",
              "      <td>11.5200</td>\n",
              "      <td>4.0200</td>\n",
              "    </tr>\n",
              "    <tr>\n",
              "      <th>1</th>\n",
              "      <td>0.0</td>\n",
              "      <td>290.0</td>\n",
              "      <td>24.0</td>\n",
              "      <td>26.3</td>\n",
              "      <td>31.2</td>\n",
              "      <td>12.4800</td>\n",
              "      <td>4.3056</td>\n",
              "    </tr>\n",
              "    <tr>\n",
              "      <th>2</th>\n",
              "      <td>0.0</td>\n",
              "      <td>340.0</td>\n",
              "      <td>23.9</td>\n",
              "      <td>26.5</td>\n",
              "      <td>31.1</td>\n",
              "      <td>12.3778</td>\n",
              "      <td>4.6961</td>\n",
              "    </tr>\n",
              "    <tr>\n",
              "      <th>3</th>\n",
              "      <td>0.0</td>\n",
              "      <td>363.0</td>\n",
              "      <td>26.3</td>\n",
              "      <td>29.0</td>\n",
              "      <td>33.5</td>\n",
              "      <td>12.7300</td>\n",
              "      <td>4.4555</td>\n",
              "    </tr>\n",
              "    <tr>\n",
              "      <th>4</th>\n",
              "      <td>0.0</td>\n",
              "      <td>430.0</td>\n",
              "      <td>26.5</td>\n",
              "      <td>29.0</td>\n",
              "      <td>34.0</td>\n",
              "      <td>12.4440</td>\n",
              "      <td>5.1340</td>\n",
              "    </tr>\n",
              "    <tr>\n",
              "      <th>...</th>\n",
              "      <td>...</td>\n",
              "      <td>...</td>\n",
              "      <td>...</td>\n",
              "      <td>...</td>\n",
              "      <td>...</td>\n",
              "      <td>...</td>\n",
              "      <td>...</td>\n",
              "    </tr>\n",
              "    <tr>\n",
              "      <th>154</th>\n",
              "      <td>5.0</td>\n",
              "      <td>12.2</td>\n",
              "      <td>11.5</td>\n",
              "      <td>12.2</td>\n",
              "      <td>13.4</td>\n",
              "      <td>2.0904</td>\n",
              "      <td>1.3936</td>\n",
              "    </tr>\n",
              "    <tr>\n",
              "      <th>155</th>\n",
              "      <td>5.0</td>\n",
              "      <td>13.4</td>\n",
              "      <td>11.7</td>\n",
              "      <td>12.4</td>\n",
              "      <td>13.5</td>\n",
              "      <td>2.4300</td>\n",
              "      <td>1.2690</td>\n",
              "    </tr>\n",
              "    <tr>\n",
              "      <th>156</th>\n",
              "      <td>5.0</td>\n",
              "      <td>12.2</td>\n",
              "      <td>12.1</td>\n",
              "      <td>13.0</td>\n",
              "      <td>13.8</td>\n",
              "      <td>2.2770</td>\n",
              "      <td>1.2558</td>\n",
              "    </tr>\n",
              "    <tr>\n",
              "      <th>157</th>\n",
              "      <td>5.0</td>\n",
              "      <td>19.7</td>\n",
              "      <td>13.2</td>\n",
              "      <td>14.3</td>\n",
              "      <td>15.2</td>\n",
              "      <td>2.8728</td>\n",
              "      <td>2.0672</td>\n",
              "    </tr>\n",
              "    <tr>\n",
              "      <th>158</th>\n",
              "      <td>5.0</td>\n",
              "      <td>19.9</td>\n",
              "      <td>13.8</td>\n",
              "      <td>15.0</td>\n",
              "      <td>16.2</td>\n",
              "      <td>2.9322</td>\n",
              "      <td>1.8792</td>\n",
              "    </tr>\n",
              "  </tbody>\n",
              "</table>\n",
              "<p>159 rows × 7 columns</p>\n",
              "</div>"
            ],
            "text/plain": [
              "     Species  Weight  Length1  Length2  Length3   Height   Width\n",
              "0        0.0   242.0     23.2     25.4     30.0  11.5200  4.0200\n",
              "1        0.0   290.0     24.0     26.3     31.2  12.4800  4.3056\n",
              "2        0.0   340.0     23.9     26.5     31.1  12.3778  4.6961\n",
              "3        0.0   363.0     26.3     29.0     33.5  12.7300  4.4555\n",
              "4        0.0   430.0     26.5     29.0     34.0  12.4440  5.1340\n",
              "..       ...     ...      ...      ...      ...      ...     ...\n",
              "154      5.0    12.2     11.5     12.2     13.4   2.0904  1.3936\n",
              "155      5.0    13.4     11.7     12.4     13.5   2.4300  1.2690\n",
              "156      5.0    12.2     12.1     13.0     13.8   2.2770  1.2558\n",
              "157      5.0    19.7     13.2     14.3     15.2   2.8728  2.0672\n",
              "158      5.0    19.9     13.8     15.0     16.2   2.9322  1.8792\n",
              "\n",
              "[159 rows x 7 columns]"
            ]
          },
          "metadata": {
            "tags": []
          }
        }
      ]
    },
    {
      "cell_type": "code",
      "metadata": {
        "id": "US5k_rsZPLON",
        "colab_type": "code",
        "colab": {
          "base_uri": "https://localhost:8080/",
          "height": 243
        },
        "outputId": "a443f329-f69c-454c-d622-819695881fd0"
      },
      "source": [
        "fish = fish.sample(frac=1) # Randomizing data\n",
        "fish = fish.values # converting dataframe in array\n",
        "display(fish)"
      ],
      "execution_count": null,
      "outputs": [
        {
          "output_type": "display_data",
          "data": {
            "text/plain": [
              "array([[   5.    ,   19.7   ,   13.2   , ...,   15.2   ,    2.8728,\n",
              "           2.0672],\n",
              "       [   0.    ,  340.    ,   29.5   , ...,   37.3   ,   13.9129,\n",
              "           5.0728],\n",
              "       [   4.    ,  390.    ,   29.5   , ...,   35.    ,    9.485 ,\n",
              "           5.355 ],\n",
              "       ...,\n",
              "       [   3.    , 1250.    ,   52.    , ...,   59.7   ,   10.6863,\n",
              "           6.9849],\n",
              "       [   0.    ,  242.    ,   23.2   , ...,   30.    ,   11.52  ,\n",
              "           4.02  ],\n",
              "       [   2.    ,  188.    ,   22.6   , ...,   26.2   ,    6.7334,\n",
              "           4.1658]])"
            ]
          },
          "metadata": {
            "tags": []
          }
        }
      ]
    },
    {
      "cell_type": "code",
      "metadata": {
        "id": "LGvqu9IPPjVt",
        "colab_type": "code",
        "colab": {}
      },
      "source": [
        "# and split in 75% training and 25% test\n",
        "X_train = fish[:119,:6]#.astype('float') \n",
        "y_train = fish[:119,6]#.astype('float')\n",
        "X_test = fish[119:,:6]#.astype('float')\n",
        "y_test = fish[119:,6]#.astype('float')"
      ],
      "execution_count": null,
      "outputs": []
    },
    {
      "cell_type": "code",
      "metadata": {
        "id": "4pfsGcCEQdcA",
        "colab_type": "code",
        "colab": {
          "base_uri": "https://localhost:8080/",
          "height": 86
        },
        "outputId": "c9e478aa-8a5d-480c-e017-8ce4dcafbf96"
      },
      "source": [
        "print(\"Train_Features :\",X_train.shape)\n",
        "print(\"Train_Labels :\",y_train.shape)\n",
        "print(\"Test_Features :\",X_test.shape)\n",
        "print(\"Test_Labels :\",y_test.shape)"
      ],
      "execution_count": null,
      "outputs": [
        {
          "output_type": "stream",
          "text": [
            "Train_Features : (119, 6)\n",
            "Train_Labels : (119,)\n",
            "Test_Features : (40, 6)\n",
            "Test_Labels : (40,)\n"
          ],
          "name": "stdout"
        }
      ]
    },
    {
      "cell_type": "code",
      "metadata": {
        "id": "g7CFmcEeQip-",
        "colab_type": "code",
        "colab": {}
      },
      "source": [
        "import tensorflow as tf\n",
        "import keras\n",
        "model = tf.keras.models.Sequential([\n",
        "  tf.keras.layers.Dense(128, input_shape=(119,6)),\n",
        "  #tf.keras.layers.Dropout(0.001),\n",
        "  tf.keras.layers.Dense(64, activation='relu'),\n",
        "  tf.keras.layers.Dense(32, activation=\"relu\"),\n",
        "  tf.keras.layers.Dense(9, activation='softmax')\n",
        "])"
      ],
      "execution_count": null,
      "outputs": []
    },
    {
      "cell_type": "code",
      "metadata": {
        "id": "M9mK6vIlQtLM",
        "colab_type": "code",
        "colab": {}
      },
      "source": [
        "\n",
        "\n",
        "model.compile(optimizer='adam',\n",
        "              loss='sparse_categorical_crossentropy',\n",
        "              metrics=['accuracy'])\n",
        "\n"
      ],
      "execution_count": null,
      "outputs": []
    },
    {
      "cell_type": "code",
      "metadata": {
        "id": "Xm5nxD69Q-dT",
        "colab_type": "code",
        "colab": {
          "base_uri": "https://localhost:8080/",
          "height": 1000
        },
        "outputId": "15c030ca-04ed-46c7-93f2-641d6b25f304"
      },
      "source": [
        "batch_size = 256\n",
        "epochs = 115\n",
        "history = model.fit(X_train, y_train,batch_size= batch_size,epochs= epochs,verbose=1, validation_split=0.1)"
      ],
      "execution_count": null,
      "outputs": [
        {
          "output_type": "stream",
          "text": [
            "Epoch 1/115\n",
            "WARNING:tensorflow:Model was constructed with shape (None, 119, 6) for input Tensor(\"dense_136_input:0\", shape=(None, 119, 6), dtype=float32), but it was called on an input with incompatible shape (None, 6).\n",
            "WARNING:tensorflow:Model was constructed with shape (None, 119, 6) for input Tensor(\"dense_136_input:0\", shape=(None, 119, 6), dtype=float32), but it was called on an input with incompatible shape (None, 6).\n",
            "1/1 [==============================] - ETA: 0s - loss: 42.4847 - accuracy: 0.0000e+00WARNING:tensorflow:Model was constructed with shape (None, 119, 6) for input Tensor(\"dense_136_input:0\", shape=(None, 119, 6), dtype=float32), but it was called on an input with incompatible shape (None, 6).\n",
            "1/1 [==============================] - 0s 158ms/step - loss: 42.4847 - accuracy: 0.0000e+00 - val_loss: 7.1657 - val_accuracy: 0.0000e+00\n",
            "Epoch 2/115\n",
            "1/1 [==============================] - 0s 20ms/step - loss: 11.8859 - accuracy: 0.0000e+00 - val_loss: 9.2503 - val_accuracy: 0.0000e+00\n",
            "Epoch 3/115\n",
            "1/1 [==============================] - 0s 26ms/step - loss: 12.8030 - accuracy: 0.0000e+00 - val_loss: 9.7522 - val_accuracy: 0.0000e+00\n",
            "Epoch 4/115\n",
            "1/1 [==============================] - 0s 23ms/step - loss: 12.6352 - accuracy: 0.0000e+00 - val_loss: 7.5823 - val_accuracy: 0.0000e+00\n",
            "Epoch 5/115\n",
            "1/1 [==============================] - 0s 22ms/step - loss: 10.0206 - accuracy: 0.0000e+00 - val_loss: 4.8277 - val_accuracy: 0.0000e+00\n",
            "Epoch 6/115\n",
            "1/1 [==============================] - 0s 31ms/step - loss: 6.4137 - accuracy: 0.0000e+00 - val_loss: 4.1579 - val_accuracy: 0.0000e+00\n",
            "Epoch 7/115\n",
            "1/1 [==============================] - 0s 25ms/step - loss: 4.6275 - accuracy: 0.0000e+00 - val_loss: 3.7089 - val_accuracy: 0.0000e+00\n",
            "Epoch 8/115\n",
            "1/1 [==============================] - 0s 26ms/step - loss: 4.5684 - accuracy: 0.0000e+00 - val_loss: 4.0474 - val_accuracy: 0.0000e+00\n",
            "Epoch 9/115\n",
            "1/1 [==============================] - 0s 22ms/step - loss: 5.7698 - accuracy: 0.0000e+00 - val_loss: 4.3670 - val_accuracy: 0.0000e+00\n",
            "Epoch 10/115\n",
            "1/1 [==============================] - 0s 24ms/step - loss: 5.5745 - accuracy: 0.0000e+00 - val_loss: 3.9451 - val_accuracy: 0.0000e+00\n",
            "Epoch 11/115\n",
            "1/1 [==============================] - 0s 21ms/step - loss: 4.5880 - accuracy: 0.0000e+00 - val_loss: 3.6962 - val_accuracy: 0.0000e+00\n",
            "Epoch 12/115\n",
            "1/1 [==============================] - 0s 22ms/step - loss: 4.5911 - accuracy: 0.0000e+00 - val_loss: 4.1693 - val_accuracy: 0.0000e+00\n",
            "Epoch 13/115\n",
            "1/1 [==============================] - 0s 17ms/step - loss: 4.7988 - accuracy: 0.0000e+00 - val_loss: 3.8281 - val_accuracy: 0.0000e+00\n",
            "Epoch 14/115\n",
            "1/1 [==============================] - 0s 17ms/step - loss: 4.3016 - accuracy: 0.0000e+00 - val_loss: 2.9323 - val_accuracy: 0.0000e+00\n",
            "Epoch 15/115\n",
            "1/1 [==============================] - 0s 17ms/step - loss: 3.5998 - accuracy: 0.0000e+00 - val_loss: 2.3926 - val_accuracy: 0.0000e+00\n",
            "Epoch 16/115\n",
            "1/1 [==============================] - 0s 23ms/step - loss: 2.3306 - accuracy: 0.0000e+00 - val_loss: 2.9665 - val_accuracy: 0.0000e+00\n",
            "Epoch 17/115\n",
            "1/1 [==============================] - 0s 21ms/step - loss: 2.8743 - accuracy: 0.0000e+00 - val_loss: 3.2617 - val_accuracy: 0.0000e+00\n",
            "Epoch 18/115\n",
            "1/1 [==============================] - 0s 30ms/step - loss: 3.3131 - accuracy: 0.0000e+00 - val_loss: 3.4641 - val_accuracy: 0.0000e+00\n",
            "Epoch 19/115\n",
            "1/1 [==============================] - 0s 22ms/step - loss: 3.6662 - accuracy: 0.0000e+00 - val_loss: 3.0304 - val_accuracy: 0.0000e+00\n",
            "Epoch 20/115\n",
            "1/1 [==============================] - 0s 19ms/step - loss: 3.3661 - accuracy: 0.0000e+00 - val_loss: 2.5844 - val_accuracy: 0.0000e+00\n",
            "Epoch 21/115\n",
            "1/1 [==============================] - 0s 21ms/step - loss: 2.9733 - accuracy: 0.0000e+00 - val_loss: 2.0649 - val_accuracy: 0.0000e+00\n",
            "Epoch 22/115\n",
            "1/1 [==============================] - 0s 22ms/step - loss: 2.3420 - accuracy: 0.0000e+00 - val_loss: 1.4003 - val_accuracy: 0.0000e+00\n",
            "Epoch 23/115\n",
            "1/1 [==============================] - 0s 21ms/step - loss: 1.5659 - accuracy: 0.0000e+00 - val_loss: 1.4822 - val_accuracy: 0.0000e+00\n",
            "Epoch 24/115\n",
            "1/1 [==============================] - 0s 20ms/step - loss: 2.1418 - accuracy: 0.0000e+00 - val_loss: 1.9736 - val_accuracy: 0.0000e+00\n",
            "Epoch 25/115\n",
            "1/1 [==============================] - 0s 17ms/step - loss: 2.5340 - accuracy: 0.0000e+00 - val_loss: 1.4510 - val_accuracy: 0.0000e+00\n",
            "Epoch 26/115\n",
            "1/1 [==============================] - 0s 17ms/step - loss: 1.7078 - accuracy: 0.0000e+00 - val_loss: 1.3620 - val_accuracy: 0.0000e+00\n",
            "Epoch 27/115\n",
            "1/1 [==============================] - 0s 16ms/step - loss: 2.3265 - accuracy: 0.0000e+00 - val_loss: 1.2915 - val_accuracy: 0.0000e+00\n",
            "Epoch 28/115\n",
            "1/1 [==============================] - 0s 17ms/step - loss: 2.0627 - accuracy: 0.0000e+00 - val_loss: 1.3612 - val_accuracy: 0.0000e+00\n",
            "Epoch 29/115\n",
            "1/1 [==============================] - 0s 18ms/step - loss: 2.1710 - accuracy: 0.0000e+00 - val_loss: 1.2757 - val_accuracy: 0.0000e+00\n",
            "Epoch 30/115\n",
            "1/1 [==============================] - 0s 19ms/step - loss: 1.9205 - accuracy: 0.0000e+00 - val_loss: 1.5030 - val_accuracy: 0.0000e+00\n",
            "Epoch 31/115\n",
            "1/1 [==============================] - 0s 17ms/step - loss: 2.2694 - accuracy: 0.0000e+00 - val_loss: 1.0982 - val_accuracy: 0.0000e+00\n",
            "Epoch 32/115\n",
            "1/1 [==============================] - 0s 16ms/step - loss: 1.5327 - accuracy: 0.0000e+00 - val_loss: 1.2986 - val_accuracy: 0.0000e+00\n",
            "Epoch 33/115\n",
            "1/1 [==============================] - 0s 17ms/step - loss: 1.6579 - accuracy: 0.0000e+00 - val_loss: 1.4461 - val_accuracy: 0.0000e+00\n",
            "Epoch 34/115\n",
            "1/1 [==============================] - 0s 17ms/step - loss: 1.6329 - accuracy: 0.0000e+00 - val_loss: 1.8539 - val_accuracy: 0.0000e+00\n",
            "Epoch 35/115\n",
            "1/1 [==============================] - 0s 17ms/step - loss: 2.2860 - accuracy: 0.0000e+00 - val_loss: 1.7158 - val_accuracy: 0.0000e+00\n",
            "Epoch 36/115\n",
            "1/1 [==============================] - 0s 18ms/step - loss: 2.0509 - accuracy: 0.0000e+00 - val_loss: 1.5339 - val_accuracy: 0.0000e+00\n",
            "Epoch 37/115\n",
            "1/1 [==============================] - 0s 18ms/step - loss: 1.7093 - accuracy: 0.0000e+00 - val_loss: 1.4748 - val_accuracy: 0.0000e+00\n",
            "Epoch 38/115\n",
            "1/1 [==============================] - 0s 16ms/step - loss: 1.6188 - accuracy: 0.0000e+00 - val_loss: 1.3209 - val_accuracy: 0.0000e+00\n",
            "Epoch 39/115\n",
            "1/1 [==============================] - 0s 17ms/step - loss: 1.4854 - accuracy: 0.0000e+00 - val_loss: 0.9649 - val_accuracy: 0.0000e+00\n",
            "Epoch 40/115\n",
            "1/1 [==============================] - 0s 18ms/step - loss: 0.9802 - accuracy: 0.0000e+00 - val_loss: 1.4675 - val_accuracy: 0.0000e+00\n",
            "Epoch 41/115\n",
            "1/1 [==============================] - 0s 17ms/step - loss: 1.9436 - accuracy: 0.0000e+00 - val_loss: 1.0012 - val_accuracy: 0.0000e+00\n",
            "Epoch 42/115\n",
            "1/1 [==============================] - 0s 17ms/step - loss: 1.0754 - accuracy: 0.0000e+00 - val_loss: 1.1385 - val_accuracy: 0.0000e+00\n",
            "Epoch 43/115\n",
            "1/1 [==============================] - 0s 17ms/step - loss: 1.1948 - accuracy: 0.0000e+00 - val_loss: 1.3250 - val_accuracy: 0.0000e+00\n",
            "Epoch 44/115\n",
            "1/1 [==============================] - 0s 17ms/step - loss: 1.3538 - accuracy: 0.0000e+00 - val_loss: 1.2120 - val_accuracy: 0.0000e+00\n",
            "Epoch 45/115\n",
            "1/1 [==============================] - 0s 17ms/step - loss: 1.1588 - accuracy: 0.0000e+00 - val_loss: 1.2962 - val_accuracy: 0.0000e+00\n",
            "Epoch 46/115\n",
            "1/1 [==============================] - 0s 19ms/step - loss: 1.5824 - accuracy: 0.0000e+00 - val_loss: 1.1642 - val_accuracy: 0.0000e+00\n",
            "Epoch 47/115\n",
            "1/1 [==============================] - 0s 20ms/step - loss: 1.1318 - accuracy: 0.0000e+00 - val_loss: 1.0895 - val_accuracy: 0.0000e+00\n",
            "Epoch 48/115\n",
            "1/1 [==============================] - 0s 18ms/step - loss: 1.0151 - accuracy: 0.0000e+00 - val_loss: 0.9305 - val_accuracy: 0.0000e+00\n",
            "Epoch 49/115\n",
            "1/1 [==============================] - 0s 19ms/step - loss: 0.9956 - accuracy: 0.0000e+00 - val_loss: 0.9092 - val_accuracy: 0.0000e+00\n",
            "Epoch 50/115\n",
            "1/1 [==============================] - 0s 19ms/step - loss: 1.0994 - accuracy: 0.0000e+00 - val_loss: 0.8941 - val_accuracy: 0.0000e+00\n",
            "Epoch 51/115\n",
            "1/1 [==============================] - 0s 19ms/step - loss: 1.0322 - accuracy: 0.0000e+00 - val_loss: 0.9468 - val_accuracy: 0.0000e+00\n",
            "Epoch 52/115\n",
            "1/1 [==============================] - 0s 18ms/step - loss: 1.0581 - accuracy: 0.0000e+00 - val_loss: 0.8421 - val_accuracy: 0.0000e+00\n",
            "Epoch 53/115\n",
            "1/1 [==============================] - 0s 19ms/step - loss: 0.8958 - accuracy: 0.0000e+00 - val_loss: 0.8065 - val_accuracy: 0.0000e+00\n",
            "Epoch 54/115\n",
            "1/1 [==============================] - 0s 18ms/step - loss: 0.9028 - accuracy: 0.0000e+00 - val_loss: 0.8827 - val_accuracy: 0.0000e+00\n",
            "Epoch 55/115\n",
            "1/1 [==============================] - 0s 16ms/step - loss: 0.9509 - accuracy: 0.0000e+00 - val_loss: 1.0082 - val_accuracy: 0.0000e+00\n",
            "Epoch 56/115\n",
            "1/1 [==============================] - 0s 17ms/step - loss: 1.0288 - accuracy: 0.0000e+00 - val_loss: 0.9149 - val_accuracy: 0.0000e+00\n",
            "Epoch 57/115\n",
            "1/1 [==============================] - 0s 18ms/step - loss: 0.8996 - accuracy: 0.0000e+00 - val_loss: 0.8611 - val_accuracy: 0.0000e+00\n",
            "Epoch 58/115\n",
            "1/1 [==============================] - 0s 17ms/step - loss: 0.9400 - accuracy: 0.0000e+00 - val_loss: 0.8326 - val_accuracy: 0.0000e+00\n",
            "Epoch 59/115\n",
            "1/1 [==============================] - 0s 20ms/step - loss: 0.8250 - accuracy: 0.0000e+00 - val_loss: 0.9452 - val_accuracy: 0.0000e+00\n",
            "Epoch 60/115\n",
            "1/1 [==============================] - 0s 18ms/step - loss: 0.9190 - accuracy: 0.0000e+00 - val_loss: 0.8947 - val_accuracy: 0.0000e+00\n",
            "Epoch 61/115\n",
            "1/1 [==============================] - 0s 17ms/step - loss: 0.8725 - accuracy: 0.0000e+00 - val_loss: 0.8923 - val_accuracy: 0.0000e+00\n",
            "Epoch 62/115\n",
            "1/1 [==============================] - 0s 17ms/step - loss: 0.9339 - accuracy: 0.0000e+00 - val_loss: 0.8571 - val_accuracy: 0.0000e+00\n",
            "Epoch 63/115\n",
            "1/1 [==============================] - 0s 18ms/step - loss: 0.8271 - accuracy: 0.0000e+00 - val_loss: 0.9296 - val_accuracy: 0.0000e+00\n",
            "Epoch 64/115\n",
            "1/1 [==============================] - 0s 17ms/step - loss: 0.8717 - accuracy: 0.0000e+00 - val_loss: 0.8563 - val_accuracy: 0.0000e+00\n",
            "Epoch 65/115\n",
            "1/1 [==============================] - 0s 18ms/step - loss: 0.8033 - accuracy: 0.0000e+00 - val_loss: 0.8497 - val_accuracy: 0.0000e+00\n",
            "Epoch 66/115\n",
            "1/1 [==============================] - 0s 18ms/step - loss: 0.8825 - accuracy: 0.0000e+00 - val_loss: 0.8464 - val_accuracy: 0.0000e+00\n",
            "Epoch 67/115\n",
            "1/1 [==============================] - 0s 18ms/step - loss: 0.8160 - accuracy: 0.0000e+00 - val_loss: 0.8520 - val_accuracy: 0.0000e+00\n",
            "Epoch 68/115\n",
            "1/1 [==============================] - 0s 18ms/step - loss: 0.8353 - accuracy: 0.0000e+00 - val_loss: 0.7549 - val_accuracy: 0.0000e+00\n",
            "Epoch 69/115\n",
            "1/1 [==============================] - 0s 17ms/step - loss: 0.8001 - accuracy: 0.0000e+00 - val_loss: 0.7247 - val_accuracy: 0.0000e+00\n",
            "Epoch 70/115\n",
            "1/1 [==============================] - 0s 18ms/step - loss: 0.7931 - accuracy: 0.0000e+00 - val_loss: 0.7610 - val_accuracy: 0.0000e+00\n",
            "Epoch 71/115\n",
            "1/1 [==============================] - 0s 17ms/step - loss: 0.8172 - accuracy: 0.0000e+00 - val_loss: 0.7263 - val_accuracy: 0.0000e+00\n",
            "Epoch 72/115\n",
            "1/1 [==============================] - 0s 18ms/step - loss: 0.7941 - accuracy: 0.0000e+00 - val_loss: 0.7010 - val_accuracy: 0.0000e+00\n",
            "Epoch 73/115\n",
            "1/1 [==============================] - 0s 17ms/step - loss: 0.8048 - accuracy: 0.0000e+00 - val_loss: 0.7207 - val_accuracy: 0.0000e+00\n",
            "Epoch 74/115\n",
            "1/1 [==============================] - 0s 18ms/step - loss: 0.7688 - accuracy: 0.0000e+00 - val_loss: 0.7844 - val_accuracy: 0.0000e+00\n",
            "Epoch 75/115\n",
            "1/1 [==============================] - 0s 19ms/step - loss: 0.7980 - accuracy: 0.0000e+00 - val_loss: 0.7575 - val_accuracy: 0.0000e+00\n",
            "Epoch 76/115\n",
            "1/1 [==============================] - 0s 19ms/step - loss: 0.7715 - accuracy: 0.0000e+00 - val_loss: 0.7624 - val_accuracy: 0.0000e+00\n",
            "Epoch 77/115\n",
            "1/1 [==============================] - 0s 17ms/step - loss: 0.7834 - accuracy: 0.0000e+00 - val_loss: 0.7985 - val_accuracy: 0.0000e+00\n",
            "Epoch 78/115\n",
            "1/1 [==============================] - 0s 19ms/step - loss: 0.7734 - accuracy: 0.0000e+00 - val_loss: 0.7845 - val_accuracy: 0.0000e+00\n",
            "Epoch 79/115\n",
            "1/1 [==============================] - 0s 17ms/step - loss: 0.7584 - accuracy: 0.0000e+00 - val_loss: 0.7646 - val_accuracy: 0.0000e+00\n",
            "Epoch 80/115\n",
            "1/1 [==============================] - 0s 18ms/step - loss: 0.7707 - accuracy: 0.0000e+00 - val_loss: 0.7793 - val_accuracy: 0.0000e+00\n",
            "Epoch 81/115\n",
            "1/1 [==============================] - 0s 18ms/step - loss: 0.7559 - accuracy: 0.0000e+00 - val_loss: 0.8035 - val_accuracy: 0.0000e+00\n",
            "Epoch 82/115\n",
            "1/1 [==============================] - 0s 18ms/step - loss: 0.7670 - accuracy: 0.0000e+00 - val_loss: 0.7737 - val_accuracy: 0.0000e+00\n",
            "Epoch 83/115\n",
            "1/1 [==============================] - 0s 17ms/step - loss: 0.7552 - accuracy: 0.0000e+00 - val_loss: 0.7729 - val_accuracy: 0.0000e+00\n",
            "Epoch 84/115\n",
            "1/1 [==============================] - 0s 17ms/step - loss: 0.7500 - accuracy: 0.0000e+00 - val_loss: 0.7985 - val_accuracy: 0.0000e+00\n",
            "Epoch 85/115\n",
            "1/1 [==============================] - 0s 18ms/step - loss: 0.7548 - accuracy: 0.0000e+00 - val_loss: 0.7782 - val_accuracy: 0.0000e+00\n",
            "Epoch 86/115\n",
            "1/1 [==============================] - 0s 19ms/step - loss: 0.7436 - accuracy: 0.0000e+00 - val_loss: 0.7648 - val_accuracy: 0.0000e+00\n",
            "Epoch 87/115\n",
            "1/1 [==============================] - 0s 19ms/step - loss: 0.7504 - accuracy: 0.0000e+00 - val_loss: 0.7729 - val_accuracy: 0.0000e+00\n",
            "Epoch 88/115\n",
            "1/1 [==============================] - 0s 19ms/step - loss: 0.7424 - accuracy: 0.0000e+00 - val_loss: 0.7562 - val_accuracy: 0.0000e+00\n",
            "Epoch 89/115\n",
            "1/1 [==============================] - 0s 17ms/step - loss: 0.7378 - accuracy: 0.0000e+00 - val_loss: 0.7340 - val_accuracy: 0.0000e+00\n",
            "Epoch 90/115\n",
            "1/1 [==============================] - 0s 18ms/step - loss: 0.7412 - accuracy: 0.0000e+00 - val_loss: 0.7450 - val_accuracy: 0.0000e+00\n",
            "Epoch 91/115\n",
            "1/1 [==============================] - 0s 24ms/step - loss: 0.7350 - accuracy: 0.0000e+00 - val_loss: 0.7569 - val_accuracy: 0.0000e+00\n",
            "Epoch 92/115\n",
            "1/1 [==============================] - 0s 19ms/step - loss: 0.7369 - accuracy: 0.0000e+00 - val_loss: 0.7433 - val_accuracy: 0.0000e+00\n",
            "Epoch 93/115\n",
            "1/1 [==============================] - 0s 19ms/step - loss: 0.7326 - accuracy: 0.0000e+00 - val_loss: 0.7549 - val_accuracy: 0.0000e+00\n",
            "Epoch 94/115\n",
            "1/1 [==============================] - 0s 18ms/step - loss: 0.7278 - accuracy: 0.0000e+00 - val_loss: 0.7768 - val_accuracy: 0.0000e+00\n",
            "Epoch 95/115\n",
            "1/1 [==============================] - 0s 17ms/step - loss: 0.7301 - accuracy: 0.0000e+00 - val_loss: 0.7661 - val_accuracy: 0.0000e+00\n",
            "Epoch 96/115\n",
            "1/1 [==============================] - 0s 18ms/step - loss: 0.7266 - accuracy: 0.0000e+00 - val_loss: 0.7670 - val_accuracy: 0.0000e+00\n",
            "Epoch 97/115\n",
            "1/1 [==============================] - 0s 17ms/step - loss: 0.7239 - accuracy: 0.0000e+00 - val_loss: 0.7788 - val_accuracy: 0.0000e+00\n",
            "Epoch 98/115\n",
            "1/1 [==============================] - 0s 21ms/step - loss: 0.7241 - accuracy: 0.0000e+00 - val_loss: 0.7659 - val_accuracy: 0.0000e+00\n",
            "Epoch 99/115\n",
            "1/1 [==============================] - 0s 18ms/step - loss: 0.7190 - accuracy: 0.0000e+00 - val_loss: 0.7657 - val_accuracy: 0.0000e+00\n",
            "Epoch 100/115\n",
            "1/1 [==============================] - 0s 17ms/step - loss: 0.7187 - accuracy: 0.0000e+00 - val_loss: 0.7788 - val_accuracy: 0.0000e+00\n",
            "Epoch 101/115\n",
            "1/1 [==============================] - 0s 19ms/step - loss: 0.7180 - accuracy: 0.0000e+00 - val_loss: 0.7692 - val_accuracy: 0.0000e+00\n",
            "Epoch 102/115\n",
            "1/1 [==============================] - 0s 19ms/step - loss: 0.7139 - accuracy: 0.0000e+00 - val_loss: 0.7647 - val_accuracy: 0.0000e+00\n",
            "Epoch 103/115\n",
            "1/1 [==============================] - 0s 18ms/step - loss: 0.7129 - accuracy: 0.0000e+00 - val_loss: 0.7745 - val_accuracy: 0.0000e+00\n",
            "Epoch 104/115\n",
            "1/1 [==============================] - 0s 18ms/step - loss: 0.7115 - accuracy: 0.0000e+00 - val_loss: 0.7657 - val_accuracy: 0.0000e+00\n",
            "Epoch 105/115\n",
            "1/1 [==============================] - 0s 19ms/step - loss: 0.7084 - accuracy: 0.0000e+00 - val_loss: 0.7556 - val_accuracy: 0.0000e+00\n",
            "Epoch 106/115\n",
            "1/1 [==============================] - 0s 24ms/step - loss: 0.7073 - accuracy: 0.0000e+00 - val_loss: 0.7512 - val_accuracy: 0.0000e+00\n",
            "Epoch 107/115\n",
            "1/1 [==============================] - 0s 19ms/step - loss: 0.7049 - accuracy: 0.0000e+00 - val_loss: 0.7348 - val_accuracy: 0.0000e+00\n",
            "Epoch 108/115\n",
            "1/1 [==============================] - 0s 17ms/step - loss: 0.7024 - accuracy: 0.0000e+00 - val_loss: 0.7248 - val_accuracy: 0.0000e+00\n",
            "Epoch 109/115\n",
            "1/1 [==============================] - 0s 18ms/step - loss: 0.7024 - accuracy: 0.0000e+00 - val_loss: 0.7312 - val_accuracy: 0.0000e+00\n",
            "Epoch 110/115\n",
            "1/1 [==============================] - 0s 17ms/step - loss: 0.7013 - accuracy: 0.0000e+00 - val_loss: 0.7309 - val_accuracy: 0.0000e+00\n",
            "Epoch 111/115\n",
            "1/1 [==============================] - 0s 18ms/step - loss: 0.6992 - accuracy: 0.0000e+00 - val_loss: 0.7351 - val_accuracy: 0.0000e+00\n",
            "Epoch 112/115\n",
            "1/1 [==============================] - 0s 17ms/step - loss: 0.6982 - accuracy: 0.0000e+00 - val_loss: 0.7501 - val_accuracy: 0.0000e+00\n",
            "Epoch 113/115\n",
            "1/1 [==============================] - 0s 18ms/step - loss: 0.6969 - accuracy: 0.0000e+00 - val_loss: 0.7533 - val_accuracy: 0.0000e+00\n",
            "Epoch 114/115\n",
            "1/1 [==============================] - 0s 17ms/step - loss: 0.6951 - accuracy: 0.0000e+00 - val_loss: 0.7570 - val_accuracy: 0.0000e+00\n",
            "Epoch 115/115\n",
            "1/1 [==============================] - 0s 17ms/step - loss: 0.6939 - accuracy: 0.0000e+00 - val_loss: 0.7689 - val_accuracy: 0.0000e+00\n"
          ],
          "name": "stdout"
        }
      ]
    },
    {
      "cell_type": "code",
      "metadata": {
        "id": "cgjjZZ62RCoC",
        "colab_type": "code",
        "colab": {
          "base_uri": "https://localhost:8080/",
          "height": 295
        },
        "outputId": "3b388153-c15f-4ea5-9a82-51891caf4bfe"
      },
      "source": [
        "import matplotlib.pyplot as plt\n",
        "\n",
        "loss = history.history['loss']\n",
        "val_loss = history.history['val_loss']\n",
        "\n",
        "epochs = range(1, len(loss) + 1)\n",
        "\n",
        "plt.plot(epochs, loss, 'bo', label='Training loss')\n",
        "plt.plot(epochs, val_loss, 'b', label='Validation loss')\n",
        "plt.title('Training and validation loss')\n",
        "plt.xlabel('Epochs')\n",
        "plt.ylabel('Loss')\n",
        "plt.legend()\n",
        "plt.show()\n"
      ],
      "execution_count": null,
      "outputs": [
        {
          "output_type": "display_data",
          "data": {
            "image/png": "[encoded data removed]",
            "text/plain": [
              "<Figure size 432x288 with 1 Axes>"
            ]
          },
          "metadata": {
            "tags": [],
            "needs_background": "light"
          }
        }
      ]
    },
    {
      "cell_type": "code",
      "metadata": {
        "id": "MF8QZy1NT-S9",
        "colab_type": "code",
        "colab": {
          "base_uri": "https://localhost:8080/",
          "height": 295
        },
        "outputId": "3a18727b-2a3a-403a-f742-e1d7e58bb44b"
      },
      "source": [
        "\n",
        "\n",
        "acc = history.history['accuracy']\n",
        "val_acc = history.history['val_accuracy']\n",
        "\n",
        "epochs = range(1, len(acc) + 1)\n",
        "\n",
        "plt.plot(epochs, acc, 'bo', label='Training acc')\n",
        "plt.plot(epochs, val_acc, 'b', label='Validation acc')\n",
        "plt.title('Training and validation acc')\n",
        "plt.xlabel('Epochs')\n",
        "plt.ylabel('acc')\n",
        "plt.legend()\n",
        "plt.show()\n",
        "\n"
      ],
      "execution_count": null,
      "outputs": [
        {
          "output_type": "display_data",
          "data": {
            "image/png": "[encoded data removed]",
            "text/plain": [
              "<Figure size 432x288 with 1 Axes>"
            ]
          },
          "metadata": {
            "tags": [],
            "needs_background": "light"
          }
        }
      ]
    },
    {
      "cell_type": "code",
      "metadata": {
        "id": "79h0Vnu7UXHK",
        "colab_type": "code",
        "colab": {
          "base_uri": "https://localhost:8080/",
          "height": 86
        },
        "outputId": "8a135a7f-ff5c-4a90-f893-58726d6876ef"
      },
      "source": [
        "import numpy as np\n",
        "\n",
        "import tensorflow as tf\n",
        "import tensorflow_hub as hub\n",
        "import tensorflow_datasets as tfds\n",
        "\n",
        "import matplotlib.pyplot as plt\n",
        "\n",
        "print(\"Version: \", tf.__version__)\n",
        "print(\"Eager mode: \", tf.executing_eagerly())\n",
        "print(\"Hub version: \", hub.__version__)\n",
        "print(\"GPU is\", \"available\" if tf.config.list_physical_devices('GPU') else \"NOT AVAILABLE\")\n"
      ],
      "execution_count": null,
      "outputs": [
        {
          "output_type": "stream",
          "text": [
            "Version:  2.3.0\n",
            "Eager mode:  True\n",
            "Hub version:  0.8.0\n",
            "GPU is NOT AVAILABLE\n"
          ],
          "name": "stdout"
        }
      ]
    },
    {
      "cell_type": "code",
      "metadata": {
        "id": "C0z1HBdmrn4i",
        "colab_type": "code",
        "colab": {
          "base_uri": "https://localhost:8080/",
          "height": 660
        },
        "outputId": "5af8fd56-0933-4558-9196-af111fed5ee8"
      },
      "source": [
        "train_data, test_data = tfds.load(name=\"datasets_229906_491820_Fish.csv\", split=[\"train\", \"test\"], batch_size=-1, as_supervised=True)\n",
        "\n",
        "train_examples, train_labels = tfds.as_numpy(train_data)\n",
        "test_examples, test_labels = tfds.as_numpy(test_data)\n"
      ],
      "execution_count": null,
      "outputs": [
        {
          "output_type": "error",
          "ename": "ValueError",
          "evalue": "ignored",
          "traceback": [
            "\u001b[0;31m---------------------------------------------------------------------------\u001b[0m",
            "\u001b[0;31mValueError\u001b[0m                                Traceback (most recent call last)",
            "\u001b[0;32m<ipython-input-4-76c604af07f6>\u001b[0m in \u001b[0;36m<module>\u001b[0;34m()\u001b[0m\n\u001b[0;32m----> 1\u001b[0;31m \u001b[0mtrain_data\u001b[0m\u001b[0;34m,\u001b[0m \u001b[0mtest_data\u001b[0m \u001b[0;34m=\u001b[0m \u001b[0mtfds\u001b[0m\u001b[0;34m.\u001b[0m\u001b[0mload\u001b[0m\u001b[0;34m(\u001b[0m\u001b[0mname\u001b[0m\u001b[0;34m=\u001b[0m\u001b[0;34m\"datasets_229906_491820_Fish.csv\"\u001b[0m\u001b[0;34m,\u001b[0m \u001b[0msplit\u001b[0m\u001b[0;34m=\u001b[0m\u001b[0;34m[\u001b[0m\u001b[0;34m\"train\"\u001b[0m\u001b[0;34m,\u001b[0m \u001b[0;34m\"test\"\u001b[0m\u001b[0;34m]\u001b[0m\u001b[0;34m,\u001b[0m \u001b[0mbatch_size\u001b[0m\u001b[0;34m=\u001b[0m\u001b[0;34m-\u001b[0m\u001b[0;36m1\u001b[0m\u001b[0;34m,\u001b[0m \u001b[0mas_supervised\u001b[0m\u001b[0;34m=\u001b[0m\u001b[0;32mTrue\u001b[0m\u001b[0;34m)\u001b[0m\u001b[0;34m\u001b[0m\u001b[0;34m\u001b[0m\u001b[0m\n\u001b[0m\u001b[1;32m      2\u001b[0m \u001b[0;34m\u001b[0m\u001b[0m\n\u001b[1;32m      3\u001b[0m \u001b[0mtrain_examples\u001b[0m\u001b[0;34m,\u001b[0m \u001b[0mtrain_labels\u001b[0m \u001b[0;34m=\u001b[0m \u001b[0mtfds\u001b[0m\u001b[0;34m.\u001b[0m\u001b[0mas_numpy\u001b[0m\u001b[0;34m(\u001b[0m\u001b[0mtrain_data\u001b[0m\u001b[0;34m)\u001b[0m\u001b[0;34m\u001b[0m\u001b[0;34m\u001b[0m\u001b[0m\n\u001b[1;32m      4\u001b[0m \u001b[0mtest_examples\u001b[0m\u001b[0;34m,\u001b[0m \u001b[0mtest_labels\u001b[0m \u001b[0;34m=\u001b[0m \u001b[0mtfds\u001b[0m\u001b[0;34m.\u001b[0m\u001b[0mas_numpy\u001b[0m\u001b[0;34m(\u001b[0m\u001b[0mtest_data\u001b[0m\u001b[0;34m)\u001b[0m\u001b[0;34m\u001b[0m\u001b[0;34m\u001b[0m\u001b[0m\n",
            "\u001b[0;32m/usr/local/lib/python3.6/dist-packages/tensorflow_datasets/core/api_utils.py\u001b[0m in \u001b[0;36mdisallow_positional_args_dec\u001b[0;34m(fn, instance, args, kwargs)\u001b[0m\n\u001b[1;32m     50\u001b[0m     \u001b[0m_check_no_positional\u001b[0m\u001b[0;34m(\u001b[0m\u001b[0mfn\u001b[0m\u001b[0;34m,\u001b[0m \u001b[0margs\u001b[0m\u001b[0;34m,\u001b[0m \u001b[0mismethod\u001b[0m\u001b[0;34m,\u001b[0m \u001b[0mallowed\u001b[0m\u001b[0;34m=\u001b[0m\u001b[0mallowed\u001b[0m\u001b[0;34m)\u001b[0m\u001b[0;34m\u001b[0m\u001b[0;34m\u001b[0m\u001b[0m\n\u001b[1;32m     51\u001b[0m     \u001b[0m_check_required\u001b[0m\u001b[0;34m(\u001b[0m\u001b[0mfn\u001b[0m\u001b[0;34m,\u001b[0m \u001b[0mkwargs\u001b[0m\u001b[0;34m)\u001b[0m\u001b[0;34m\u001b[0m\u001b[0;34m\u001b[0m\u001b[0m\n\u001b[0;32m---> 52\u001b[0;31m     \u001b[0;32mreturn\u001b[0m \u001b[0mfn\u001b[0m\u001b[0;34m(\u001b[0m\u001b[0;34m*\u001b[0m\u001b[0margs\u001b[0m\u001b[0;34m,\u001b[0m \u001b[0;34m**\u001b[0m\u001b[0mkwargs\u001b[0m\u001b[0;34m)\u001b[0m\u001b[0;34m\u001b[0m\u001b[0;34m\u001b[0m\u001b[0m\n\u001b[0m\u001b[1;32m     53\u001b[0m \u001b[0;34m\u001b[0m\u001b[0m\n\u001b[1;32m     54\u001b[0m   \u001b[0;32mreturn\u001b[0m \u001b[0mdisallow_positional_args_dec\u001b[0m\u001b[0;34m(\u001b[0m\u001b[0mwrapped\u001b[0m\u001b[0;34m)\u001b[0m  \u001b[0;31m# pylint: disable=no-value-for-parameter\u001b[0m\u001b[0;34m\u001b[0m\u001b[0;34m\u001b[0m\u001b[0m\n",
            "\u001b[0;32m/usr/local/lib/python3.6/dist-packages/tensorflow_datasets/core/registered.py\u001b[0m in \u001b[0;36mload\u001b[0;34m(name, split, data_dir, batch_size, in_memory, shuffle_files, download, as_supervised, decoders, read_config, with_info, builder_kwargs, download_and_prepare_kwargs, as_dataset_kwargs, try_gcs)\u001b[0m\n\u001b[1;32m    290\u001b[0m   \u001b[0;31m# pylint: enable=line-too-long\u001b[0m\u001b[0;34m\u001b[0m\u001b[0;34m\u001b[0m\u001b[0;34m\u001b[0m\u001b[0m\n\u001b[1;32m    291\u001b[0m \u001b[0;34m\u001b[0m\u001b[0m\n\u001b[0;32m--> 292\u001b[0;31m   \u001b[0mname\u001b[0m\u001b[0;34m,\u001b[0m \u001b[0mname_builder_kwargs\u001b[0m \u001b[0;34m=\u001b[0m \u001b[0m_dataset_name_and_kwargs_from_name_str\u001b[0m\u001b[0;34m(\u001b[0m\u001b[0mname\u001b[0m\u001b[0;34m)\u001b[0m\u001b[0;34m\u001b[0m\u001b[0;34m\u001b[0m\u001b[0m\n\u001b[0m\u001b[1;32m    293\u001b[0m   \u001b[0mname_builder_kwargs\u001b[0m\u001b[0;34m.\u001b[0m\u001b[0mupdate\u001b[0m\u001b[0;34m(\u001b[0m\u001b[0mbuilder_kwargs\u001b[0m \u001b[0;32mor\u001b[0m \u001b[0;34m{\u001b[0m\u001b[0;34m}\u001b[0m\u001b[0;34m)\u001b[0m\u001b[0;34m\u001b[0m\u001b[0;34m\u001b[0m\u001b[0m\n\u001b[1;32m    294\u001b[0m   \u001b[0mbuilder_kwargs\u001b[0m \u001b[0;34m=\u001b[0m \u001b[0mname_builder_kwargs\u001b[0m\u001b[0;34m\u001b[0m\u001b[0;34m\u001b[0m\u001b[0m\n",
            "\u001b[0;32m/usr/local/lib/python3.6/dist-packages/tensorflow_datasets/core/registered.py\u001b[0m in \u001b[0;36m_dataset_name_and_kwargs_from_name_str\u001b[0;34m(name_str)\u001b[0m\n\u001b[1;32m    337\u001b[0m   \u001b[0mres\u001b[0m \u001b[0;34m=\u001b[0m \u001b[0m_NAME_REG\u001b[0m\u001b[0;34m.\u001b[0m\u001b[0mmatch\u001b[0m\u001b[0;34m(\u001b[0m\u001b[0mname_str\u001b[0m\u001b[0;34m)\u001b[0m\u001b[0;34m\u001b[0m\u001b[0;34m\u001b[0m\u001b[0m\n\u001b[1;32m    338\u001b[0m   \u001b[0;32mif\u001b[0m \u001b[0;32mnot\u001b[0m \u001b[0mres\u001b[0m\u001b[0;34m:\u001b[0m\u001b[0;34m\u001b[0m\u001b[0;34m\u001b[0m\u001b[0m\n\u001b[0;32m--> 339\u001b[0;31m     \u001b[0;32mraise\u001b[0m \u001b[0mValueError\u001b[0m\u001b[0;34m(\u001b[0m\u001b[0m_NAME_STR_ERR\u001b[0m\u001b[0;34m.\u001b[0m\u001b[0mformat\u001b[0m\u001b[0;34m(\u001b[0m\u001b[0mname_str\u001b[0m\u001b[0;34m)\u001b[0m\u001b[0;34m)\u001b[0m\u001b[0;34m\u001b[0m\u001b[0;34m\u001b[0m\u001b[0m\n\u001b[0m\u001b[1;32m    340\u001b[0m   \u001b[0mname\u001b[0m \u001b[0;34m=\u001b[0m \u001b[0mres\u001b[0m\u001b[0;34m.\u001b[0m\u001b[0mgroup\u001b[0m\u001b[0;34m(\u001b[0m\u001b[0;34m\"dataset_name\"\u001b[0m\u001b[0;34m)\u001b[0m\u001b[0;34m\u001b[0m\u001b[0;34m\u001b[0m\u001b[0m\n\u001b[1;32m    341\u001b[0m   \u001b[0mkwargs\u001b[0m \u001b[0;34m=\u001b[0m \u001b[0m_kwargs_str_to_kwargs\u001b[0m\u001b[0;34m(\u001b[0m\u001b[0mres\u001b[0m\u001b[0;34m.\u001b[0m\u001b[0mgroup\u001b[0m\u001b[0;34m(\u001b[0m\u001b[0;34m\"kwargs\"\u001b[0m\u001b[0;34m)\u001b[0m\u001b[0;34m)\u001b[0m\u001b[0;34m\u001b[0m\u001b[0;34m\u001b[0m\u001b[0m\n",
            "\u001b[0;31mValueError\u001b[0m: Parsing builder name string datasets_229906_491820_Fish.csv failed.\nThe builder name string must be of the following format:\n  dataset_name[/config_name][:version][/kwargs]\n\n  Where:\n\n    * dataset_name and config_name are string following python variable naming.\n    * version is of the form x.y.z where {x,y,z} can be any digit or *.\n    * kwargs is a comma list separated of arguments and values to pass to\n      builder.\n\n  Examples:\n    my_dataset\n    my_dataset:1.2.*\n    my_dataset/config1\n    my_dataset/config1:1.*.*\n    my_dataset/config1/arg1=val1,arg2=val2\n    my_dataset/config1:1.2.3/right=True,foo=bar,rate=1.2\n"
          ]
        }
      ]
    },
    {
      "cell_type": "markdown",
      "metadata": {
        "id": "hOfIp6lhqKUg",
        "colab_type": "text"
      },
      "source": [
        "### **START**"
      ]
    },
    {
      "cell_type": "code",
      "metadata": {
        "id": "FnQjNHNKr4Uo",
        "colab_type": "code",
        "colab": {}
      },
      "source": [
        "import os\n",
        "import numpy as np\n",
        "import pandas as pd\n",
        "import matplotlib.pyplot as plt\n",
        "import tensorflow as tf\n"
      ],
      "execution_count": null,
      "outputs": []
    },
    {
      "cell_type": "code",
      "metadata": {
        "id": "4wWzgiaQt-Ow",
        "colab_type": "code",
        "colab": {
          "base_uri": "https://localhost:8080/",
          "height": 206
        },
        "outputId": "b066159f-13ab-451b-d149-dbfa754e4c29"
      },
      "source": [
        "df_fish = pd.read_csv(\"/content/datasets_229906_491820_Fish.csv\")\n",
        "df_fish.head()"
      ],
      "execution_count": null,
      "outputs": [
        {
          "output_type": "execute_result",
          "data": {
            "text/html": [
              "<div>\n",
              "<style scoped>\n",
              "    .dataframe tbody tr th:only-of-type {\n",
              "        vertical-align: middle;\n",
              "    }\n",
              "\n",
              "    .dataframe tbody tr th {\n",
              "        vertical-align: top;\n",
              "    }\n",
              "\n",
              "    .dataframe thead th {\n",
              "        text-align: right;\n",
              "    }\n",
              "</style>\n",
              "<table border=\"1\" class=\"dataframe\">\n",
              "  <thead>\n",
              "    <tr style=\"text-align: right;\">\n",
              "      <th></th>\n",
              "      <th>Species</th>\n",
              "      <th>Weight</th>\n",
              "      <th>Length1</th>\n",
              "      <th>Length2</th>\n",
              "      <th>Length3</th>\n",
              "      <th>Height</th>\n",
              "      <th>Width</th>\n",
              "    </tr>\n",
              "  </thead>\n",
              "  <tbody>\n",
              "    <tr>\n",
              "      <th>0</th>\n",
              "      <td>Bream</td>\n",
              "      <td>242.0</td>\n",
              "      <td>23.2</td>\n",
              "      <td>25.4</td>\n",
              "      <td>30.0</td>\n",
              "      <td>11.5200</td>\n",
              "      <td>4.0200</td>\n",
              "    </tr>\n",
              "    <tr>\n",
              "      <th>1</th>\n",
              "      <td>Bream</td>\n",
              "      <td>290.0</td>\n",
              "      <td>24.0</td>\n",
              "      <td>26.3</td>\n",
              "      <td>31.2</td>\n",
              "      <td>12.4800</td>\n",
              "      <td>4.3056</td>\n",
              "    </tr>\n",
              "    <tr>\n",
              "      <th>2</th>\n",
              "      <td>Bream</td>\n",
              "      <td>340.0</td>\n",
              "      <td>23.9</td>\n",
              "      <td>26.5</td>\n",
              "      <td>31.1</td>\n",
              "      <td>12.3778</td>\n",
              "      <td>4.6961</td>\n",
              "    </tr>\n",
              "    <tr>\n",
              "      <th>3</th>\n",
              "      <td>Bream</td>\n",
              "      <td>363.0</td>\n",
              "      <td>26.3</td>\n",
              "      <td>29.0</td>\n",
              "      <td>33.5</td>\n",
              "      <td>12.7300</td>\n",
              "      <td>4.4555</td>\n",
              "    </tr>\n",
              "    <tr>\n",
              "      <th>4</th>\n",
              "      <td>Bream</td>\n",
              "      <td>430.0</td>\n",
              "      <td>26.5</td>\n",
              "      <td>29.0</td>\n",
              "      <td>34.0</td>\n",
              "      <td>12.4440</td>\n",
              "      <td>5.1340</td>\n",
              "    </tr>\n",
              "  </tbody>\n",
              "</table>\n",
              "</div>"
            ],
            "text/plain": [
              "  Species  Weight  Length1  Length2  Length3   Height   Width\n",
              "0   Bream   242.0     23.2     25.4     30.0  11.5200  4.0200\n",
              "1   Bream   290.0     24.0     26.3     31.2  12.4800  4.3056\n",
              "2   Bream   340.0     23.9     26.5     31.1  12.3778  4.6961\n",
              "3   Bream   363.0     26.3     29.0     33.5  12.7300  4.4555\n",
              "4   Bream   430.0     26.5     29.0     34.0  12.4440  5.1340"
            ]
          },
          "metadata": {
            "tags": []
          },
          "execution_count": 4
        }
      ]
    },
    {
      "cell_type": "code",
      "metadata": {
        "id": "w2CRBGR6uH0C",
        "colab_type": "code",
        "colab": {
          "base_uri": "https://localhost:8080/",
          "height": 69
        },
        "outputId": "b3c0ac8e-e467-4e60-aa62-5627163330dd"
      },
      "source": [
        "df_fish.columns"
      ],
      "execution_count": null,
      "outputs": [
        {
          "output_type": "execute_result",
          "data": {
            "text/plain": [
              "Index(['Species', 'Weight', 'Length1', 'Length2', 'Length3', 'Height',\n",
              "       'Width'],\n",
              "      dtype='object')"
            ]
          },
          "metadata": {
            "tags": []
          },
          "execution_count": 5
        }
      ]
    },
    {
      "cell_type": "code",
      "metadata": {
        "id": "Q2pfZ_t7uRSb",
        "colab_type": "code",
        "colab": {
          "base_uri": "https://localhost:8080/",
          "height": 52
        },
        "outputId": "005ecf66-6d57-431a-888a-21e60ed19c10"
      },
      "source": [
        "df_fish[\"Species\"].unique() "
      ],
      "execution_count": null,
      "outputs": [
        {
          "output_type": "execute_result",
          "data": {
            "text/plain": [
              "array(['Bream', 'Roach', 'Whitefish', 'Parkki', 'Perch', 'Pike', 'Smelt'],\n",
              "      dtype=object)"
            ]
          },
          "metadata": {
            "tags": []
          },
          "execution_count": 6
        }
      ]
    },
    {
      "cell_type": "code",
      "metadata": {
        "id": "4qXUVLbiuw68",
        "colab_type": "code",
        "colab": {
          "base_uri": "https://localhost:8080/",
          "height": 156
        },
        "outputId": "ff4774db-fc94-40d2-d60b-f10ab440a695"
      },
      "source": [
        "df_fish[\"Species\"].value_counts()"
      ],
      "execution_count": null,
      "outputs": [
        {
          "output_type": "execute_result",
          "data": {
            "text/plain": [
              "Perch        56\n",
              "Bream        35\n",
              "Roach        20\n",
              "Pike         17\n",
              "Smelt        14\n",
              "Parkki       11\n",
              "Whitefish     6\n",
              "Name: Species, dtype: int64"
            ]
          },
          "metadata": {
            "tags": []
          },
          "execution_count": 7
        }
      ]
    },
    {
      "cell_type": "code",
      "metadata": {
        "id": "kw7XzHjIvBVw",
        "colab_type": "code",
        "colab": {}
      },
      "source": [
        "labels = df_fish[\"Species\"]"
      ],
      "execution_count": null,
      "outputs": []
    },
    {
      "cell_type": "code",
      "metadata": {
        "id": "cdAxCerevLva",
        "colab_type": "code",
        "colab": {
          "base_uri": "https://localhost:8080/",
          "height": 225
        },
        "outputId": "f5205266-930a-42ea-8406-d3fc0904af33"
      },
      "source": [
        "labels"
      ],
      "execution_count": null,
      "outputs": [
        {
          "output_type": "execute_result",
          "data": {
            "text/plain": [
              "0      Bream\n",
              "1      Bream\n",
              "2      Bream\n",
              "3      Bream\n",
              "4      Bream\n",
              "       ...  \n",
              "154    Smelt\n",
              "155    Smelt\n",
              "156    Smelt\n",
              "157    Smelt\n",
              "158    Smelt\n",
              "Name: Species, Length: 159, dtype: object"
            ]
          },
          "metadata": {
            "tags": []
          },
          "execution_count": 9
        }
      ]
    },
    {
      "cell_type": "code",
      "metadata": {
        "id": "-Ec31YcuvS7U",
        "colab_type": "code",
        "colab": {}
      },
      "source": [
        "text_features = df_fish.drop(columns=[\"Species\"])"
      ],
      "execution_count": null,
      "outputs": []
    },
    {
      "cell_type": "code",
      "metadata": {
        "id": "lReLLsnNvwxr",
        "colab_type": "code",
        "colab": {
          "base_uri": "https://localhost:8080/",
          "height": 206
        },
        "outputId": "adeea93f-7366-4494-95ec-3803495a7c77"
      },
      "source": [
        "text_features.head()"
      ],
      "execution_count": null,
      "outputs": [
        {
          "output_type": "execute_result",
          "data": {
            "text/html": [
              "<div>\n",
              "<style scoped>\n",
              "    .dataframe tbody tr th:only-of-type {\n",
              "        vertical-align: middle;\n",
              "    }\n",
              "\n",
              "    .dataframe tbody tr th {\n",
              "        vertical-align: top;\n",
              "    }\n",
              "\n",
              "    .dataframe thead th {\n",
              "        text-align: right;\n",
              "    }\n",
              "</style>\n",
              "<table border=\"1\" class=\"dataframe\">\n",
              "  <thead>\n",
              "    <tr style=\"text-align: right;\">\n",
              "      <th></th>\n",
              "      <th>Weight</th>\n",
              "      <th>Length1</th>\n",
              "      <th>Length2</th>\n",
              "      <th>Length3</th>\n",
              "      <th>Height</th>\n",
              "      <th>Width</th>\n",
              "    </tr>\n",
              "  </thead>\n",
              "  <tbody>\n",
              "    <tr>\n",
              "      <th>0</th>\n",
              "      <td>242.0</td>\n",
              "      <td>23.2</td>\n",
              "      <td>25.4</td>\n",
              "      <td>30.0</td>\n",
              "      <td>11.5200</td>\n",
              "      <td>4.0200</td>\n",
              "    </tr>\n",
              "    <tr>\n",
              "      <th>1</th>\n",
              "      <td>290.0</td>\n",
              "      <td>24.0</td>\n",
              "      <td>26.3</td>\n",
              "      <td>31.2</td>\n",
              "      <td>12.4800</td>\n",
              "      <td>4.3056</td>\n",
              "    </tr>\n",
              "    <tr>\n",
              "      <th>2</th>\n",
              "      <td>340.0</td>\n",
              "      <td>23.9</td>\n",
              "      <td>26.5</td>\n",
              "      <td>31.1</td>\n",
              "      <td>12.3778</td>\n",
              "      <td>4.6961</td>\n",
              "    </tr>\n",
              "    <tr>\n",
              "      <th>3</th>\n",
              "      <td>363.0</td>\n",
              "      <td>26.3</td>\n",
              "      <td>29.0</td>\n",
              "      <td>33.5</td>\n",
              "      <td>12.7300</td>\n",
              "      <td>4.4555</td>\n",
              "    </tr>\n",
              "    <tr>\n",
              "      <th>4</th>\n",
              "      <td>430.0</td>\n",
              "      <td>26.5</td>\n",
              "      <td>29.0</td>\n",
              "      <td>34.0</td>\n",
              "      <td>12.4440</td>\n",
              "      <td>5.1340</td>\n",
              "    </tr>\n",
              "  </tbody>\n",
              "</table>\n",
              "</div>"
            ],
            "text/plain": [
              "   Weight  Length1  Length2  Length3   Height   Width\n",
              "0   242.0     23.2     25.4     30.0  11.5200  4.0200\n",
              "1   290.0     24.0     26.3     31.2  12.4800  4.3056\n",
              "2   340.0     23.9     26.5     31.1  12.3778  4.6961\n",
              "3   363.0     26.3     29.0     33.5  12.7300  4.4555\n",
              "4   430.0     26.5     29.0     34.0  12.4440  5.1340"
            ]
          },
          "metadata": {
            "tags": []
          },
          "execution_count": 11
        }
      ]
    },
    {
      "cell_type": "code",
      "metadata": {
        "id": "dUb52RtRw-SR",
        "colab_type": "code",
        "colab": {
          "base_uri": "https://localhost:8080/",
          "height": 34
        },
        "outputId": "fb356134-1286-4169-ee43-0244ce3c1397"
      },
      "source": [
        "labels.shape"
      ],
      "execution_count": null,
      "outputs": [
        {
          "output_type": "execute_result",
          "data": {
            "text/plain": [
              "(159,)"
            ]
          },
          "metadata": {
            "tags": []
          },
          "execution_count": 12
        }
      ]
    },
    {
      "cell_type": "code",
      "metadata": {
        "id": "rRMv3-aPy0Op",
        "colab_type": "code",
        "colab": {
          "base_uri": "https://localhost:8080/",
          "height": 34
        },
        "outputId": "ae35618a-6543-4a8c-de3c-569d43bb938d"
      },
      "source": [
        "text_features.shape"
      ],
      "execution_count": null,
      "outputs": [
        {
          "output_type": "execute_result",
          "data": {
            "text/plain": [
              "(159, 6)"
            ]
          },
          "metadata": {
            "tags": []
          },
          "execution_count": 13
        }
      ]
    },
    {
      "cell_type": "code",
      "metadata": {
        "id": "ltml23zty4En",
        "colab_type": "code",
        "colab": {
          "base_uri": "https://localhost:8080/",
          "height": 52
        },
        "outputId": "7bbddc0d-a472-40d9-9154-e080aa2e12c7"
      },
      "source": [
        "labels.unique()"
      ],
      "execution_count": null,
      "outputs": [
        {
          "output_type": "execute_result",
          "data": {
            "text/plain": [
              "array(['Bream', 'Roach', 'Whitefish', 'Parkki', 'Perch', 'Pike', 'Smelt'],\n",
              "      dtype=object)"
            ]
          },
          "metadata": {
            "tags": []
          },
          "execution_count": 14
        }
      ]
    },
    {
      "cell_type": "code",
      "metadata": {
        "id": "VLt6e4FK1uVD",
        "colab_type": "code",
        "colab": {
          "base_uri": "https://localhost:8080/",
          "height": 156
        },
        "outputId": "5582a66a-8015-4e74-c937-7921c6b6c625"
      },
      "source": [
        "labels = np.ravel(labels)\n",
        "\n",
        "from sklearn.preprocessing import LabelEncoder\n",
        "le = LabelEncoder()\n",
        "\n",
        "labels = le.fit_transform(labels)\n",
        "labels"
      ],
      "execution_count": null,
      "outputs": [
        {
          "output_type": "execute_result",
          "data": {
            "text/plain": [
              "array([0, 0, 0, 0, 0, 0, 0, 0, 0, 0, 0, 0, 0, 0, 0, 0, 0, 0, 0, 0, 0, 0,\n",
              "       0, 0, 0, 0, 0, 0, 0, 0, 0, 0, 0, 0, 0, 4, 4, 4, 4, 4, 4, 4, 4, 4,\n",
              "       4, 4, 4, 4, 4, 4, 4, 4, 4, 4, 4, 6, 6, 6, 6, 6, 6, 1, 1, 1, 1, 1,\n",
              "       1, 1, 1, 1, 1, 1, 2, 2, 2, 2, 2, 2, 2, 2, 2, 2, 2, 2, 2, 2, 2, 2,\n",
              "       2, 2, 2, 2, 2, 2, 2, 2, 2, 2, 2, 2, 2, 2, 2, 2, 2, 2, 2, 2, 2, 2,\n",
              "       2, 2, 2, 2, 2, 2, 2, 2, 2, 2, 2, 2, 2, 2, 2, 2, 2, 2, 3, 3, 3, 3,\n",
              "       3, 3, 3, 3, 3, 3, 3, 3, 3, 3, 3, 3, 3, 5, 5, 5, 5, 5, 5, 5, 5, 5,\n",
              "       5, 5, 5, 5, 5])"
            ]
          },
          "metadata": {
            "tags": []
          },
          "execution_count": 15
        }
      ]
    },
    {
      "cell_type": "code",
      "metadata": {
        "id": "MK8eH7qO130e",
        "colab_type": "code",
        "colab": {}
      },
      "source": [
        "# spliting data\n",
        "from sklearn.model_selection import train_test_split\n",
        "x_train, x_test, y_train, y_test = train_test_split(text_features, labels, test_size=0.2, random_state=1)"
      ],
      "execution_count": null,
      "outputs": []
    },
    {
      "cell_type": "code",
      "metadata": {
        "id": "rSVFue-22AUZ",
        "colab_type": "code",
        "colab": {
          "base_uri": "https://localhost:8080/",
          "height": 34
        },
        "outputId": "79b4e5c5-c966-4fc1-f5cc-0b0c0e1f4ed6"
      },
      "source": [
        "x_train.shape # input shape"
      ],
      "execution_count": null,
      "outputs": [
        {
          "output_type": "execute_result",
          "data": {
            "text/plain": [
              "(127, 6)"
            ]
          },
          "metadata": {
            "tags": []
          },
          "execution_count": 17
        }
      ]
    },
    {
      "cell_type": "code",
      "metadata": {
        "id": "hPlM-IWD2Pxx",
        "colab_type": "code",
        "colab": {
          "base_uri": "https://localhost:8080/",
          "height": 34
        },
        "outputId": "5be03304-777a-4640-9283-3fac0809cc34"
      },
      "source": [
        "y_train.shape"
      ],
      "execution_count": null,
      "outputs": [
        {
          "output_type": "execute_result",
          "data": {
            "text/plain": [
              "(127,)"
            ]
          },
          "metadata": {
            "tags": []
          },
          "execution_count": 18
        }
      ]
    },
    {
      "cell_type": "code",
      "metadata": {
        "id": "evomoq4e2Wvv",
        "colab_type": "code",
        "colab": {
          "base_uri": "https://localhost:8080/",
          "height": 1000
        },
        "outputId": "94e91547-7208-42ad-f1c3-71a5af9f22d3"
      },
      "source": [
        "\n",
        "\n",
        "models = tf.keras.Sequential\n",
        "layers = tf.keras.layers\n",
        "\n",
        "model = models([layers.Dense(512,activation=\"relu\",input_shape=(6,)),\n",
        "                layers.Flatten(),\n",
        "                layers.Dense(64,activation=\"relu\"),\n",
        "                layers.Dense(32,activation=\"relu\"),\n",
        "                layers.Dense(8, activation='softmax')])\n",
        "\n",
        "model.compile(optimizer=\"adam\", \n",
        "             loss=\"sparse_categorical_crossentropy\",\n",
        "             metrics=[\"accuracy\"])\n",
        "\n",
        "history = model.fit(x_train,y_train,epochs=250,validation_split=(0.0))\n",
        "\n"
      ],
      "execution_count": null,
      "outputs": [
        {
          "output_type": "stream",
          "text": [
            "Epoch 1/250\n",
            "4/4 [==============================] - 0s 2ms/step - loss: 10.6486 - accuracy: 0.1260\n",
            "Epoch 2/250\n",
            "4/4 [==============================] - 0s 2ms/step - loss: 3.3858 - accuracy: 0.3858\n",
            "Epoch 3/250\n",
            "4/4 [==============================] - 0s 2ms/step - loss: 2.7205 - accuracy: 0.3622\n",
            "Epoch 4/250\n",
            "4/4 [==============================] - 0s 2ms/step - loss: 2.3279 - accuracy: 0.3543\n",
            "Epoch 5/250\n",
            "4/4 [==============================] - 0s 2ms/step - loss: 2.1366 - accuracy: 0.4252\n",
            "Epoch 6/250\n",
            "4/4 [==============================] - 0s 2ms/step - loss: 2.2616 - accuracy: 0.3937\n",
            "Epoch 7/250\n",
            "4/4 [==============================] - 0s 2ms/step - loss: 1.8234 - accuracy: 0.3622\n",
            "Epoch 8/250\n",
            "4/4 [==============================] - 0s 2ms/step - loss: 1.7600 - accuracy: 0.2992\n",
            "Epoch 9/250\n",
            "4/4 [==============================] - 0s 2ms/step - loss: 1.4004 - accuracy: 0.3150\n",
            "Epoch 10/250\n",
            "4/4 [==============================] - 0s 2ms/step - loss: 1.4645 - accuracy: 0.3307\n",
            "Epoch 11/250\n",
            "4/4 [==============================] - 0s 2ms/step - loss: 1.3427 - accuracy: 0.3543\n",
            "Epoch 12/250\n",
            "4/4 [==============================] - 0s 2ms/step - loss: 1.2969 - accuracy: 0.3858\n",
            "Epoch 13/250\n",
            "4/4 [==============================] - 0s 2ms/step - loss: 1.2875 - accuracy: 0.4173\n",
            "Epoch 14/250\n",
            "4/4 [==============================] - 0s 2ms/step - loss: 1.2873 - accuracy: 0.4488\n",
            "Epoch 15/250\n",
            "4/4 [==============================] - 0s 4ms/step - loss: 1.2266 - accuracy: 0.4488\n",
            "Epoch 16/250\n",
            "4/4 [==============================] - 0s 2ms/step - loss: 1.2528 - accuracy: 0.4173\n",
            "Epoch 17/250\n",
            "4/4 [==============================] - 0s 2ms/step - loss: 1.1803 - accuracy: 0.4882\n",
            "Epoch 18/250\n",
            "4/4 [==============================] - 0s 2ms/step - loss: 1.2995 - accuracy: 0.4646\n",
            "Epoch 19/250\n",
            "4/4 [==============================] - 0s 2ms/step - loss: 1.2031 - accuracy: 0.5354\n",
            "Epoch 20/250\n",
            "4/4 [==============================] - 0s 2ms/step - loss: 1.2096 - accuracy: 0.4567\n",
            "Epoch 21/250\n",
            "4/4 [==============================] - 0s 2ms/step - loss: 1.1315 - accuracy: 0.5276\n",
            "Epoch 22/250\n",
            "4/4 [==============================] - 0s 2ms/step - loss: 1.1355 - accuracy: 0.5354\n",
            "Epoch 23/250\n",
            "4/4 [==============================] - 0s 3ms/step - loss: 1.1448 - accuracy: 0.5276\n",
            "Epoch 24/250\n",
            "4/4 [==============================] - 0s 2ms/step - loss: 1.2075 - accuracy: 0.5748\n",
            "Epoch 25/250\n",
            "4/4 [==============================] - 0s 2ms/step - loss: 1.1268 - accuracy: 0.5118\n",
            "Epoch 26/250\n",
            "4/4 [==============================] - 0s 2ms/step - loss: 1.1167 - accuracy: 0.5276\n",
            "Epoch 27/250\n",
            "4/4 [==============================] - 0s 2ms/step - loss: 1.1086 - accuracy: 0.4961\n",
            "Epoch 28/250\n",
            "4/4 [==============================] - 0s 2ms/step - loss: 1.0982 - accuracy: 0.5591\n",
            "Epoch 29/250\n",
            "4/4 [==============================] - 0s 2ms/step - loss: 1.0813 - accuracy: 0.5984\n",
            "Epoch 30/250\n",
            "4/4 [==============================] - 0s 2ms/step - loss: 1.1551 - accuracy: 0.5118\n",
            "Epoch 31/250\n",
            "4/4 [==============================] - 0s 3ms/step - loss: 1.3215 - accuracy: 0.4724\n",
            "Epoch 32/250\n",
            "4/4 [==============================] - 0s 2ms/step - loss: 1.2590 - accuracy: 0.4882\n",
            "Epoch 33/250\n",
            "4/4 [==============================] - 0s 2ms/step - loss: 1.3965 - accuracy: 0.4252\n",
            "Epoch 34/250\n",
            "4/4 [==============================] - 0s 2ms/step - loss: 1.1869 - accuracy: 0.5276\n",
            "Epoch 35/250\n",
            "4/4 [==============================] - 0s 2ms/step - loss: 1.1590 - accuracy: 0.5433\n",
            "Epoch 36/250\n",
            "4/4 [==============================] - 0s 2ms/step - loss: 1.1932 - accuracy: 0.4252\n",
            "Epoch 37/250\n",
            "4/4 [==============================] - 0s 2ms/step - loss: 1.1976 - accuracy: 0.5354\n",
            "Epoch 38/250\n",
            "4/4 [==============================] - 0s 3ms/step - loss: 1.0759 - accuracy: 0.5669\n",
            "Epoch 39/250\n",
            "4/4 [==============================] - 0s 2ms/step - loss: 1.0662 - accuracy: 0.5984\n",
            "Epoch 40/250\n",
            "4/4 [==============================] - 0s 2ms/step - loss: 1.0350 - accuracy: 0.5906\n",
            "Epoch 41/250\n",
            "4/4 [==============================] - 0s 2ms/step - loss: 1.0295 - accuracy: 0.5748\n",
            "Epoch 42/250\n",
            "4/4 [==============================] - 0s 2ms/step - loss: 1.0441 - accuracy: 0.5354\n",
            "Epoch 43/250\n",
            "4/4 [==============================] - 0s 2ms/step - loss: 1.0420 - accuracy: 0.5906\n",
            "Epoch 44/250\n",
            "4/4 [==============================] - 0s 2ms/step - loss: 1.0769 - accuracy: 0.5669\n",
            "Epoch 45/250\n",
            "4/4 [==============================] - 0s 2ms/step - loss: 1.1295 - accuracy: 0.5039\n",
            "Epoch 46/250\n",
            "4/4 [==============================] - 0s 2ms/step - loss: 0.9943 - accuracy: 0.5906\n",
            "Epoch 47/250\n",
            "4/4 [==============================] - 0s 2ms/step - loss: 1.0431 - accuracy: 0.5984\n",
            "Epoch 48/250\n",
            "4/4 [==============================] - 0s 3ms/step - loss: 1.0774 - accuracy: 0.5276\n",
            "Epoch 49/250\n",
            "4/4 [==============================] - 0s 2ms/step - loss: 0.9841 - accuracy: 0.6457\n",
            "Epoch 50/250\n",
            "4/4 [==============================] - 0s 2ms/step - loss: 1.0085 - accuracy: 0.6457\n",
            "Epoch 51/250\n",
            "4/4 [==============================] - 0s 2ms/step - loss: 0.9637 - accuracy: 0.5906\n",
            "Epoch 52/250\n",
            "4/4 [==============================] - 0s 2ms/step - loss: 1.0602 - accuracy: 0.5354\n",
            "Epoch 53/250\n",
            "4/4 [==============================] - 0s 2ms/step - loss: 1.0983 - accuracy: 0.5827\n",
            "Epoch 54/250\n",
            "4/4 [==============================] - 0s 2ms/step - loss: 1.1520 - accuracy: 0.5354\n",
            "Epoch 55/250\n",
            "4/4 [==============================] - 0s 3ms/step - loss: 1.0926 - accuracy: 0.6299\n",
            "Epoch 56/250\n",
            "4/4 [==============================] - 0s 2ms/step - loss: 1.0507 - accuracy: 0.5591\n",
            "Epoch 57/250\n",
            "4/4 [==============================] - 0s 2ms/step - loss: 0.9083 - accuracy: 0.6220\n",
            "Epoch 58/250\n",
            "4/4 [==============================] - 0s 2ms/step - loss: 0.9274 - accuracy: 0.6772\n",
            "Epoch 59/250\n",
            "4/4 [==============================] - 0s 2ms/step - loss: 0.9487 - accuracy: 0.6457\n",
            "Epoch 60/250\n",
            "4/4 [==============================] - 0s 2ms/step - loss: 0.9961 - accuracy: 0.5906\n",
            "Epoch 61/250\n",
            "4/4 [==============================] - 0s 2ms/step - loss: 0.9738 - accuracy: 0.6063\n",
            "Epoch 62/250\n",
            "4/4 [==============================] - 0s 2ms/step - loss: 1.0722 - accuracy: 0.5906\n",
            "Epoch 63/250\n",
            "4/4 [==============================] - 0s 2ms/step - loss: 0.8716 - accuracy: 0.6299\n",
            "Epoch 64/250\n",
            "4/4 [==============================] - 0s 2ms/step - loss: 0.9573 - accuracy: 0.6299\n",
            "Epoch 65/250\n",
            "4/4 [==============================] - 0s 2ms/step - loss: 0.8407 - accuracy: 0.6457\n",
            "Epoch 66/250\n",
            "4/4 [==============================] - 0s 3ms/step - loss: 0.8376 - accuracy: 0.6378\n",
            "Epoch 67/250\n",
            "4/4 [==============================] - 0s 2ms/step - loss: 0.8244 - accuracy: 0.6850\n",
            "Epoch 68/250\n",
            "4/4 [==============================] - 0s 3ms/step - loss: 0.8118 - accuracy: 0.7480\n",
            "Epoch 69/250\n",
            "4/4 [==============================] - 0s 2ms/step - loss: 0.7937 - accuracy: 0.6693\n",
            "Epoch 70/250\n",
            "4/4 [==============================] - 0s 2ms/step - loss: 0.8209 - accuracy: 0.6457\n",
            "Epoch 71/250\n",
            "4/4 [==============================] - 0s 2ms/step - loss: 0.8186 - accuracy: 0.7323\n",
            "Epoch 72/250\n",
            "4/4 [==============================] - 0s 2ms/step - loss: 0.8820 - accuracy: 0.6693\n",
            "Epoch 73/250\n",
            "4/4 [==============================] - 0s 2ms/step - loss: 0.9558 - accuracy: 0.6457\n",
            "Epoch 74/250\n",
            "4/4 [==============================] - 0s 3ms/step - loss: 0.9793 - accuracy: 0.6220\n",
            "Epoch 75/250\n",
            "4/4 [==============================] - 0s 2ms/step - loss: 0.8576 - accuracy: 0.6693\n",
            "Epoch 76/250\n",
            "4/4 [==============================] - 0s 2ms/step - loss: 1.0502 - accuracy: 0.5354\n",
            "Epoch 77/250\n",
            "4/4 [==============================] - 0s 2ms/step - loss: 1.3706 - accuracy: 0.5591\n",
            "Epoch 78/250\n",
            "4/4 [==============================] - 0s 2ms/step - loss: 1.1486 - accuracy: 0.5748\n",
            "Epoch 79/250\n",
            "4/4 [==============================] - 0s 2ms/step - loss: 0.9634 - accuracy: 0.6063\n",
            "Epoch 80/250\n",
            "4/4 [==============================] - 0s 2ms/step - loss: 0.8482 - accuracy: 0.6850\n",
            "Epoch 81/250\n",
            "4/4 [==============================] - 0s 2ms/step - loss: 0.9021 - accuracy: 0.6063\n",
            "Epoch 82/250\n",
            "4/4 [==============================] - 0s 2ms/step - loss: 0.9389 - accuracy: 0.7087\n",
            "Epoch 83/250\n",
            "4/4 [==============================] - 0s 2ms/step - loss: 1.0120 - accuracy: 0.6614\n",
            "Epoch 84/250\n",
            "4/4 [==============================] - 0s 2ms/step - loss: 1.2557 - accuracy: 0.5512\n",
            "Epoch 85/250\n",
            "4/4 [==============================] - 0s 2ms/step - loss: 2.1294 - accuracy: 0.5591\n",
            "Epoch 86/250\n",
            "4/4 [==============================] - 0s 2ms/step - loss: 1.5652 - accuracy: 0.5118\n",
            "Epoch 87/250\n",
            "4/4 [==============================] - 0s 2ms/step - loss: 1.3805 - accuracy: 0.5354\n",
            "Epoch 88/250\n",
            "4/4 [==============================] - 0s 2ms/step - loss: 1.2578 - accuracy: 0.6220\n",
            "Epoch 89/250\n",
            "4/4 [==============================] - 0s 2ms/step - loss: 1.1423 - accuracy: 0.5276\n",
            "Epoch 90/250\n",
            "4/4 [==============================] - 0s 2ms/step - loss: 0.8952 - accuracy: 0.6693\n",
            "Epoch 91/250\n",
            "4/4 [==============================] - 0s 2ms/step - loss: 0.8922 - accuracy: 0.6378\n",
            "Epoch 92/250\n",
            "4/4 [==============================] - 0s 2ms/step - loss: 0.8521 - accuracy: 0.6220\n",
            "Epoch 93/250\n",
            "4/4 [==============================] - 0s 2ms/step - loss: 0.8234 - accuracy: 0.7874\n",
            "Epoch 94/250\n",
            "4/4 [==============================] - 0s 3ms/step - loss: 0.7841 - accuracy: 0.7008\n",
            "Epoch 95/250\n",
            "4/4 [==============================] - 0s 2ms/step - loss: 0.8053 - accuracy: 0.6772\n",
            "Epoch 96/250\n",
            "4/4 [==============================] - 0s 2ms/step - loss: 0.7910 - accuracy: 0.7480\n",
            "Epoch 97/250\n",
            "4/4 [==============================] - 0s 2ms/step - loss: 0.7530 - accuracy: 0.7008\n",
            "Epoch 98/250\n",
            "4/4 [==============================] - 0s 2ms/step - loss: 0.7720 - accuracy: 0.7480\n",
            "Epoch 99/250\n",
            "4/4 [==============================] - 0s 2ms/step - loss: 0.7333 - accuracy: 0.7638\n",
            "Epoch 100/250\n",
            "4/4 [==============================] - 0s 2ms/step - loss: 0.7096 - accuracy: 0.7638\n",
            "Epoch 101/250\n",
            "4/4 [==============================] - 0s 2ms/step - loss: 0.7413 - accuracy: 0.8110\n",
            "Epoch 102/250\n",
            "4/4 [==============================] - 0s 2ms/step - loss: 0.7732 - accuracy: 0.6693\n",
            "Epoch 103/250\n",
            "4/4 [==============================] - 0s 2ms/step - loss: 0.7623 - accuracy: 0.7559\n",
            "Epoch 104/250\n",
            "4/4 [==============================] - 0s 2ms/step - loss: 0.7219 - accuracy: 0.7480\n",
            "Epoch 105/250\n",
            "4/4 [==============================] - 0s 2ms/step - loss: 0.6701 - accuracy: 0.7638\n",
            "Epoch 106/250\n",
            "4/4 [==============================] - 0s 2ms/step - loss: 0.6824 - accuracy: 0.7717\n",
            "Epoch 107/250\n",
            "4/4 [==============================] - 0s 2ms/step - loss: 0.6491 - accuracy: 0.7953\n",
            "Epoch 108/250\n",
            "4/4 [==============================] - 0s 3ms/step - loss: 0.6861 - accuracy: 0.7717\n",
            "Epoch 109/250\n",
            "4/4 [==============================] - 0s 2ms/step - loss: 0.6802 - accuracy: 0.7165\n",
            "Epoch 110/250\n",
            "4/4 [==============================] - 0s 2ms/step - loss: 0.6236 - accuracy: 0.8189\n",
            "Epoch 111/250\n",
            "4/4 [==============================] - 0s 2ms/step - loss: 0.6130 - accuracy: 0.8110\n",
            "Epoch 112/250\n",
            "4/4 [==============================] - 0s 2ms/step - loss: 0.6258 - accuracy: 0.7559\n",
            "Epoch 113/250\n",
            "4/4 [==============================] - 0s 2ms/step - loss: 0.5811 - accuracy: 0.8346\n",
            "Epoch 114/250\n",
            "4/4 [==============================] - 0s 2ms/step - loss: 0.5707 - accuracy: 0.8346\n",
            "Epoch 115/250\n",
            "4/4 [==============================] - 0s 2ms/step - loss: 0.5807 - accuracy: 0.8268\n",
            "Epoch 116/250\n",
            "4/4 [==============================] - 0s 2ms/step - loss: 0.5736 - accuracy: 0.8189\n",
            "Epoch 117/250\n",
            "4/4 [==============================] - 0s 2ms/step - loss: 0.5685 - accuracy: 0.8110\n",
            "Epoch 118/250\n",
            "4/4 [==============================] - 0s 2ms/step - loss: 0.5514 - accuracy: 0.8268\n",
            "Epoch 119/250\n",
            "4/4 [==============================] - 0s 2ms/step - loss: 0.5438 - accuracy: 0.8425\n",
            "Epoch 120/250\n",
            "4/4 [==============================] - 0s 2ms/step - loss: 0.5317 - accuracy: 0.8583\n",
            "Epoch 121/250\n",
            "4/4 [==============================] - 0s 2ms/step - loss: 0.5355 - accuracy: 0.8425\n",
            "Epoch 122/250\n",
            "4/4 [==============================] - 0s 2ms/step - loss: 0.5458 - accuracy: 0.8268\n",
            "Epoch 123/250\n",
            "4/4 [==============================] - 0s 2ms/step - loss: 0.5624 - accuracy: 0.8346\n",
            "Epoch 124/250\n",
            "4/4 [==============================] - 0s 2ms/step - loss: 0.5401 - accuracy: 0.8504\n",
            "Epoch 125/250\n",
            "4/4 [==============================] - 0s 2ms/step - loss: 0.5283 - accuracy: 0.8268\n",
            "Epoch 126/250\n",
            "4/4 [==============================] - 0s 2ms/step - loss: 0.5066 - accuracy: 0.8189\n",
            "Epoch 127/250\n",
            "4/4 [==============================] - 0s 2ms/step - loss: 0.5016 - accuracy: 0.8346\n",
            "Epoch 128/250\n",
            "4/4 [==============================] - 0s 2ms/step - loss: 0.5655 - accuracy: 0.8268\n",
            "Epoch 129/250\n",
            "4/4 [==============================] - 0s 2ms/step - loss: 0.5649 - accuracy: 0.7638\n",
            "Epoch 130/250\n",
            "4/4 [==============================] - 0s 2ms/step - loss: 0.5246 - accuracy: 0.8031\n",
            "Epoch 131/250\n",
            "4/4 [==============================] - 0s 2ms/step - loss: 0.4811 - accuracy: 0.8268\n",
            "Epoch 132/250\n",
            "4/4 [==============================] - 0s 2ms/step - loss: 0.4715 - accuracy: 0.8583\n",
            "Epoch 133/250\n",
            "4/4 [==============================] - 0s 2ms/step - loss: 0.4669 - accuracy: 0.8504\n",
            "Epoch 134/250\n",
            "4/4 [==============================] - 0s 2ms/step - loss: 0.4646 - accuracy: 0.8583\n",
            "Epoch 135/250\n",
            "4/4 [==============================] - 0s 2ms/step - loss: 0.4473 - accuracy: 0.8425\n",
            "Epoch 136/250\n",
            "4/4 [==============================] - 0s 2ms/step - loss: 0.4436 - accuracy: 0.8504\n",
            "Epoch 137/250\n",
            "4/4 [==============================] - 0s 2ms/step - loss: 0.4573 - accuracy: 0.8425\n",
            "Epoch 138/250\n",
            "4/4 [==============================] - 0s 2ms/step - loss: 0.4657 - accuracy: 0.8268\n",
            "Epoch 139/250\n",
            "4/4 [==============================] - 0s 2ms/step - loss: 0.4477 - accuracy: 0.8504\n",
            "Epoch 140/250\n",
            "4/4 [==============================] - 0s 2ms/step - loss: 0.4384 - accuracy: 0.8504\n",
            "Epoch 141/250\n",
            "4/4 [==============================] - 0s 2ms/step - loss: 0.4277 - accuracy: 0.8425\n",
            "Epoch 142/250\n",
            "4/4 [==============================] - 0s 2ms/step - loss: 0.4335 - accuracy: 0.8268\n",
            "Epoch 143/250\n",
            "4/4 [==============================] - 0s 2ms/step - loss: 0.4092 - accuracy: 0.8346\n",
            "Epoch 144/250\n",
            "4/4 [==============================] - 0s 2ms/step - loss: 0.4234 - accuracy: 0.8346\n",
            "Epoch 145/250\n",
            "4/4 [==============================] - 0s 2ms/step - loss: 0.4035 - accuracy: 0.8425\n",
            "Epoch 146/250\n",
            "4/4 [==============================] - 0s 2ms/step - loss: 0.4249 - accuracy: 0.8661\n",
            "Epoch 147/250\n",
            "4/4 [==============================] - 0s 2ms/step - loss: 0.4200 - accuracy: 0.8268\n",
            "Epoch 148/250\n",
            "4/4 [==============================] - 0s 2ms/step - loss: 0.4294 - accuracy: 0.8268\n",
            "Epoch 149/250\n",
            "4/4 [==============================] - 0s 2ms/step - loss: 0.4142 - accuracy: 0.8504\n",
            "Epoch 150/250\n",
            "4/4 [==============================] - 0s 2ms/step - loss: 0.4045 - accuracy: 0.8504\n",
            "Epoch 151/250\n",
            "4/4 [==============================] - 0s 2ms/step - loss: 0.4062 - accuracy: 0.8504\n",
            "Epoch 152/250\n",
            "4/4 [==============================] - 0s 2ms/step - loss: 0.3671 - accuracy: 0.8740\n",
            "Epoch 153/250\n",
            "4/4 [==============================] - 0s 2ms/step - loss: 0.3817 - accuracy: 0.8504\n",
            "Epoch 154/250\n",
            "4/4 [==============================] - 0s 2ms/step - loss: 0.4230 - accuracy: 0.7795\n",
            "Epoch 155/250\n",
            "4/4 [==============================] - 0s 2ms/step - loss: 0.5644 - accuracy: 0.7638\n",
            "Epoch 156/250\n",
            "4/4 [==============================] - 0s 2ms/step - loss: 0.4681 - accuracy: 0.8189\n",
            "Epoch 157/250\n",
            "4/4 [==============================] - 0s 2ms/step - loss: 0.4749 - accuracy: 0.7717\n",
            "Epoch 158/250\n",
            "4/4 [==============================] - 0s 2ms/step - loss: 0.4257 - accuracy: 0.8189\n",
            "Epoch 159/250\n",
            "4/4 [==============================] - 0s 2ms/step - loss: 0.4150 - accuracy: 0.7953\n",
            "Epoch 160/250\n",
            "4/4 [==============================] - 0s 2ms/step - loss: 0.3778 - accuracy: 0.8504\n",
            "Epoch 161/250\n",
            "4/4 [==============================] - 0s 2ms/step - loss: 0.3938 - accuracy: 0.8504\n",
            "Epoch 162/250\n",
            "4/4 [==============================] - 0s 3ms/step - loss: 0.4002 - accuracy: 0.8583\n",
            "Epoch 163/250\n",
            "4/4 [==============================] - 0s 2ms/step - loss: 0.4222 - accuracy: 0.8346\n",
            "Epoch 164/250\n",
            "4/4 [==============================] - 0s 2ms/step - loss: 0.3409 - accuracy: 0.8504\n",
            "Epoch 165/250\n",
            "4/4 [==============================] - 0s 2ms/step - loss: 0.3566 - accuracy: 0.8583\n",
            "Epoch 166/250\n",
            "4/4 [==============================] - 0s 2ms/step - loss: 0.3326 - accuracy: 0.8504\n",
            "Epoch 167/250\n",
            "4/4 [==============================] - 0s 2ms/step - loss: 0.3398 - accuracy: 0.8661\n",
            "Epoch 168/250\n",
            "4/4 [==============================] - 0s 2ms/step - loss: 0.3268 - accuracy: 0.8504\n",
            "Epoch 169/250\n",
            "4/4 [==============================] - 0s 2ms/step - loss: 0.3487 - accuracy: 0.8425\n",
            "Epoch 170/250\n",
            "4/4 [==============================] - 0s 2ms/step - loss: 0.3541 - accuracy: 0.8661\n",
            "Epoch 171/250\n",
            "4/4 [==============================] - 0s 2ms/step - loss: 0.3248 - accuracy: 0.8740\n",
            "Epoch 172/250\n",
            "4/4 [==============================] - 0s 2ms/step - loss: 0.3206 - accuracy: 0.8583\n",
            "Epoch 173/250\n",
            "4/4 [==============================] - 0s 2ms/step - loss: 0.3300 - accuracy: 0.8583\n",
            "Epoch 174/250\n",
            "4/4 [==============================] - 0s 2ms/step - loss: 0.3203 - accuracy: 0.8583\n",
            "Epoch 175/250\n",
            "4/4 [==============================] - 0s 2ms/step - loss: 0.3198 - accuracy: 0.8661\n",
            "Epoch 176/250\n",
            "4/4 [==============================] - 0s 2ms/step - loss: 0.3175 - accuracy: 0.8583\n",
            "Epoch 177/250\n",
            "4/4 [==============================] - 0s 3ms/step - loss: 0.3187 - accuracy: 0.8504\n",
            "Epoch 178/250\n",
            "4/4 [==============================] - 0s 2ms/step - loss: 0.3096 - accuracy: 0.8898\n",
            "Epoch 179/250\n",
            "4/4 [==============================] - 0s 2ms/step - loss: 0.3133 - accuracy: 0.8661\n",
            "Epoch 180/250\n",
            "4/4 [==============================] - 0s 2ms/step - loss: 0.3088 - accuracy: 0.8583\n",
            "Epoch 181/250\n",
            "4/4 [==============================] - 0s 2ms/step - loss: 0.3093 - accuracy: 0.8976\n",
            "Epoch 182/250\n",
            "4/4 [==============================] - 0s 2ms/step - loss: 0.3101 - accuracy: 0.8504\n",
            "Epoch 183/250\n",
            "4/4 [==============================] - 0s 2ms/step - loss: 0.3109 - accuracy: 0.8425\n",
            "Epoch 184/250\n",
            "4/4 [==============================] - 0s 2ms/step - loss: 0.3108 - accuracy: 0.8583\n",
            "Epoch 185/250\n",
            "4/4 [==============================] - 0s 2ms/step - loss: 0.2979 - accuracy: 0.8583\n",
            "Epoch 186/250\n",
            "4/4 [==============================] - 0s 2ms/step - loss: 0.3032 - accuracy: 0.8740\n",
            "Epoch 187/250\n",
            "4/4 [==============================] - 0s 2ms/step - loss: 0.3062 - accuracy: 0.8661\n",
            "Epoch 188/250\n",
            "4/4 [==============================] - 0s 2ms/step - loss: 0.3175 - accuracy: 0.8504\n",
            "Epoch 189/250\n",
            "4/4 [==============================] - 0s 2ms/step - loss: 0.3297 - accuracy: 0.8976\n",
            "Epoch 190/250\n",
            "4/4 [==============================] - 0s 2ms/step - loss: 0.3170 - accuracy: 0.8504\n",
            "Epoch 191/250\n",
            "4/4 [==============================] - 0s 2ms/step - loss: 0.3088 - accuracy: 0.8740\n",
            "Epoch 192/250\n",
            "4/4 [==============================] - 0s 2ms/step - loss: 0.3035 - accuracy: 0.8583\n",
            "Epoch 193/250\n",
            "4/4 [==============================] - 0s 2ms/step - loss: 0.3159 - accuracy: 0.8819\n",
            "Epoch 194/250\n",
            "4/4 [==============================] - 0s 2ms/step - loss: 0.3275 - accuracy: 0.8504\n",
            "Epoch 195/250\n",
            "4/4 [==============================] - 0s 2ms/step - loss: 0.3193 - accuracy: 0.8583\n",
            "Epoch 196/250\n",
            "4/4 [==============================] - 0s 2ms/step - loss: 0.2951 - accuracy: 0.8583\n",
            "Epoch 197/250\n",
            "4/4 [==============================] - 0s 2ms/step - loss: 0.3010 - accuracy: 0.8819\n",
            "Epoch 198/250\n",
            "4/4 [==============================] - 0s 2ms/step - loss: 0.3029 - accuracy: 0.8819\n",
            "Epoch 199/250\n",
            "4/4 [==============================] - 0s 2ms/step - loss: 0.3176 - accuracy: 0.8425\n",
            "Epoch 200/250\n",
            "4/4 [==============================] - 0s 2ms/step - loss: 0.3050 - accuracy: 0.8898\n",
            "Epoch 201/250\n",
            "4/4 [==============================] - 0s 2ms/step - loss: 0.3011 - accuracy: 0.8819\n",
            "Epoch 202/250\n",
            "4/4 [==============================] - 0s 2ms/step - loss: 0.2933 - accuracy: 0.8819\n",
            "Epoch 203/250\n",
            "4/4 [==============================] - 0s 2ms/step - loss: 0.2876 - accuracy: 0.8898\n",
            "Epoch 204/250\n",
            "4/4 [==============================] - 0s 2ms/step - loss: 0.2918 - accuracy: 0.8346\n",
            "Epoch 205/250\n",
            "4/4 [==============================] - 0s 2ms/step - loss: 0.2955 - accuracy: 0.8819\n",
            "Epoch 206/250\n",
            "4/4 [==============================] - 0s 2ms/step - loss: 0.3092 - accuracy: 0.8661\n",
            "Epoch 207/250\n",
            "4/4 [==============================] - 0s 2ms/step - loss: 0.2837 - accuracy: 0.8740\n",
            "Epoch 208/250\n",
            "4/4 [==============================] - 0s 2ms/step - loss: 0.3087 - accuracy: 0.8583\n",
            "Epoch 209/250\n",
            "4/4 [==============================] - 0s 3ms/step - loss: 0.2932 - accuracy: 0.8740\n",
            "Epoch 210/250\n",
            "4/4 [==============================] - 0s 2ms/step - loss: 0.2991 - accuracy: 0.8661\n",
            "Epoch 211/250\n",
            "4/4 [==============================] - 0s 2ms/step - loss: 0.2939 - accuracy: 0.8425\n",
            "Epoch 212/250\n",
            "4/4 [==============================] - 0s 2ms/step - loss: 0.3101 - accuracy: 0.8661\n",
            "Epoch 213/250\n",
            "4/4 [==============================] - 0s 2ms/step - loss: 0.2973 - accuracy: 0.8583\n",
            "Epoch 214/250\n",
            "4/4 [==============================] - 0s 3ms/step - loss: 0.3244 - accuracy: 0.8819\n",
            "Epoch 215/250\n",
            "4/4 [==============================] - 0s 2ms/step - loss: 0.3225 - accuracy: 0.8661\n",
            "Epoch 216/250\n",
            "4/4 [==============================] - 0s 3ms/step - loss: 0.3418 - accuracy: 0.8898\n",
            "Epoch 217/250\n",
            "4/4 [==============================] - 0s 2ms/step - loss: 0.2953 - accuracy: 0.8583\n",
            "Epoch 218/250\n",
            "4/4 [==============================] - 0s 2ms/step - loss: 0.3227 - accuracy: 0.8583\n",
            "Epoch 219/250\n",
            "4/4 [==============================] - 0s 2ms/step - loss: 0.3190 - accuracy: 0.8661\n",
            "Epoch 220/250\n",
            "4/4 [==============================] - 0s 2ms/step - loss: 0.2974 - accuracy: 0.8583\n",
            "Epoch 221/250\n",
            "4/4 [==============================] - 0s 2ms/step - loss: 0.2948 - accuracy: 0.8504\n",
            "Epoch 222/250\n",
            "4/4 [==============================] - 0s 2ms/step - loss: 0.2754 - accuracy: 0.8819\n",
            "Epoch 223/250\n",
            "4/4 [==============================] - 0s 2ms/step - loss: 0.2737 - accuracy: 0.8819\n",
            "Epoch 224/250\n",
            "4/4 [==============================] - 0s 2ms/step - loss: 0.2801 - accuracy: 0.8819\n",
            "Epoch 225/250\n",
            "4/4 [==============================] - 0s 2ms/step - loss: 0.2916 - accuracy: 0.8740\n",
            "Epoch 226/250\n",
            "4/4 [==============================] - 0s 3ms/step - loss: 0.2955 - accuracy: 0.8819\n",
            "Epoch 227/250\n",
            "4/4 [==============================] - 0s 2ms/step - loss: 0.2863 - accuracy: 0.8740\n",
            "Epoch 228/250\n",
            "4/4 [==============================] - 0s 2ms/step - loss: 0.2749 - accuracy: 0.8583\n",
            "Epoch 229/250\n",
            "4/4 [==============================] - 0s 2ms/step - loss: 0.3053 - accuracy: 0.8583\n",
            "Epoch 230/250\n",
            "4/4 [==============================] - 0s 2ms/step - loss: 0.2770 - accuracy: 0.9055\n",
            "Epoch 231/250\n",
            "4/4 [==============================] - 0s 2ms/step - loss: 0.2749 - accuracy: 0.8819\n",
            "Epoch 232/250\n",
            "4/4 [==============================] - 0s 2ms/step - loss: 0.2752 - accuracy: 0.8819\n",
            "Epoch 233/250\n",
            "4/4 [==============================] - 0s 2ms/step - loss: 0.2719 - accuracy: 0.8661\n",
            "Epoch 234/250\n",
            "4/4 [==============================] - 0s 2ms/step - loss: 0.2730 - accuracy: 0.8740\n",
            "Epoch 235/250\n",
            "4/4 [==============================] - 0s 2ms/step - loss: 0.2825 - accuracy: 0.8819\n",
            "Epoch 236/250\n",
            "4/4 [==============================] - 0s 3ms/step - loss: 0.2697 - accuracy: 0.8898\n",
            "Epoch 237/250\n",
            "4/4 [==============================] - 0s 2ms/step - loss: 0.2900 - accuracy: 0.8661\n",
            "Epoch 238/250\n",
            "4/4 [==============================] - 0s 2ms/step - loss: 0.2828 - accuracy: 0.8740\n",
            "Epoch 239/250\n",
            "4/4 [==============================] - 0s 2ms/step - loss: 0.3001 - accuracy: 0.8661\n",
            "Epoch 240/250\n",
            "4/4 [==============================] - 0s 2ms/step - loss: 0.3079 - accuracy: 0.8425\n",
            "Epoch 241/250\n",
            "4/4 [==============================] - 0s 2ms/step - loss: 0.2854 - accuracy: 0.8661\n",
            "Epoch 242/250\n",
            "4/4 [==============================] - 0s 2ms/step - loss: 0.2739 - accuracy: 0.8740\n",
            "Epoch 243/250\n",
            "4/4 [==============================] - 0s 2ms/step - loss: 0.2905 - accuracy: 0.8740\n",
            "Epoch 244/250\n",
            "4/4 [==============================] - 0s 2ms/step - loss: 0.2897 - accuracy: 0.8583\n",
            "Epoch 245/250\n",
            "4/4 [==============================] - 0s 2ms/step - loss: 0.2973 - accuracy: 0.8740\n",
            "Epoch 246/250\n",
            "4/4 [==============================] - 0s 2ms/step - loss: 0.2611 - accuracy: 0.8661\n",
            "Epoch 247/250\n",
            "4/4 [==============================] - 0s 2ms/step - loss: 0.2733 - accuracy: 0.8898\n",
            "Epoch 248/250\n",
            "4/4 [==============================] - 0s 2ms/step - loss: 0.2643 - accuracy: 0.8898\n",
            "Epoch 249/250\n",
            "4/4 [==============================] - 0s 2ms/step - loss: 0.2622 - accuracy: 0.8898\n",
            "Epoch 250/250\n",
            "4/4 [==============================] - 0s 2ms/step - loss: 0.2691 - accuracy: 0.8898\n"
          ],
          "name": "stdout"
        }
      ]
    },
    {
      "cell_type": "code",
      "metadata": {
        "id": "nTyyBJJF2jUQ",
        "colab_type": "code",
        "colab": {
          "base_uri": "https://localhost:8080/",
          "height": 34
        },
        "outputId": "53da0841-d78e-49f0-a6d7-bb36d6bde165"
      },
      "source": [
        "\n",
        "\n",
        "evaluation = model.evaluate(x_test,y_test,verbose=2)\n",
        "\n"
      ],
      "execution_count": null,
      "outputs": [
        {
          "output_type": "stream",
          "text": [
            "1/1 - 0s - loss: 1.6738 - accuracy: 0.8125\n"
          ],
          "name": "stdout"
        }
      ]
    },
    {
      "cell_type": "code",
      "metadata": {
        "id": "OTVVOA3W5VXQ",
        "colab_type": "code",
        "colab": {
          "base_uri": "https://localhost:8080/",
          "height": 34
        },
        "outputId": "77b3d9bb-6420-4d59-b932-ef4a027d09a3"
      },
      "source": [
        "history.history.keys()"
      ],
      "execution_count": null,
      "outputs": [
        {
          "output_type": "execute_result",
          "data": {
            "text/plain": [
              "dict_keys(['loss', 'accuracy'])"
            ]
          },
          "metadata": {
            "tags": []
          },
          "execution_count": 23
        }
      ]
    },
    {
      "cell_type": "code",
      "metadata": {
        "id": "kn4XHvlP32VF",
        "colab_type": "code",
        "colab": {
          "base_uri": "https://localhost:8080/",
          "height": 295
        },
        "outputId": "3247f7ba-a9f2-463e-8c18-3d6bb3e54a10"
      },
      "source": [
        "acc = history.history['accuracy']\n",
        "\n",
        "epochs = range(1, len(acc) + 1)\n",
        "\n",
        "plt.plot(epochs, acc, 'bo', label='Training acc')\n",
        "plt.title('Training acc')\n",
        "plt.xlabel('Epochs')\n",
        "plt.ylabel('acc')\n",
        "plt.legend()\n",
        "plt.show()"
      ],
      "execution_count": null,
      "outputs": [
        {
          "output_type": "display_data",
          "data": {
            "image/png": "[encoded data removed]",
            "text/plain": [
              "<Figure size 432x288 with 1 Axes>"
            ]
          },
          "metadata": {
            "tags": [],
            "needs_background": "light"
          }
        }
      ]
    },
    {
      "cell_type": "code",
      "metadata": {
        "id": "76gk3MXq6low",
        "colab_type": "code",
        "colab": {}
      },
      "source": [
        ""
      ],
      "execution_count": null,
      "outputs": []
    },
    {
      "cell_type": "code",
      "metadata": {
        "id": "cMMMddBs4Yb2",
        "colab_type": "code",
        "colab": {
          "base_uri": "https://localhost:8080/",
          "height": 295
        },
        "outputId": "10cb0869-4d9b-495b-e112-ac62c6325202"
      },
      "source": [
        "loss = history.history['loss']\n",
        "\n",
        "epochs = range(1, len(loss) + 1)\n",
        "\n",
        "plt.plot(epochs, loss, 'bo', label='Training loss')\n",
        "plt.title('Training loss')\n",
        "plt.xlabel('Epochs')\n",
        "plt.ylabel('Loss')\n",
        "plt.legend()\n",
        "plt.show()"
      ],
      "execution_count": null,
      "outputs": [
        {
          "output_type": "display_data",
          "data": {
            "image/png": "[encoded data removed]",
            "text/plain": [
              "<Figure size 432x288 with 1 Axes>"
            ]
          },
          "metadata": {
            "tags": [],
            "needs_background": "light"
          }
        }
      ]
    },
    {
      "cell_type": "code",
      "metadata": {
        "id": "w8Yv6IOF5uYo",
        "colab_type": "code",
        "colab": {
          "base_uri": "https://localhost:8080/",
          "height": 295
        },
        "outputId": "6d1db4cf-63cd-4537-c7ac-9bfa5223f3fd"
      },
      "source": [
        "acc = history.history['accuracy']\n",
        "\n",
        "epochs = range(1, len(acc) + 1)\n",
        "\n",
        "plt.plot(epochs, acc, 'bo', label='Training acc')\n",
        "plt.title('Training acc')\n",
        "plt.xlabel('Epochs')\n",
        "plt.ylabel('acc')\n",
        "plt.legend()\n",
        "plt.show()"
      ],
      "execution_count": null,
      "outputs": [
        {
          "output_type": "display_data",
          "data": {
            "image/png": "[encoded data removed]",
            "text/plain": [
              "<Figure size 432x288 with 1 Axes>"
            ]
          },
          "metadata": {
            "tags": [],
            "needs_background": "light"
          }
        }
      ]
    },
    {
      "cell_type": "code",
      "metadata": {
        "id": "ly9sL11X6nNA",
        "colab_type": "code",
        "colab": {}
      },
      "source": [
        ""
      ],
      "execution_count": null,
      "outputs": []
    }
  ]
}