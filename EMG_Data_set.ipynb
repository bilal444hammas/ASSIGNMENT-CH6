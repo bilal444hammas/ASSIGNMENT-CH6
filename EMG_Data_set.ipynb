{
  "nbformat": 4,
  "nbformat_minor": 0,
  "metadata": {
    "colab": {
      "name": "EMG_Data set.ipynb",
      "provenance": [],
      "authorship_tag": "ABX9TyO+/5rGyQfkno+4BfrWaZ/Z",
      "include_colab_link": true
    },
    "kernelspec": {
      "name": "python3",
      "display_name": "Python 3"
    }
  },
  "cells": [
    {
      "cell_type": "markdown",
      "metadata": {
        "id": "view-in-github",
        "colab_type": "text"
      },
      "source": [
        "<a href=\"https://colab.research.google.com/github/bilal444hammas/ASSIGNMENT-CH6/blob/master/EMG_Data_set.ipynb\" target=\"_parent\"><img src=\"https://colab.research.google.com/assets/colab-badge.svg\" alt=\"Open In Colab\"/></a>"
      ]
    },
    {
      "cell_type": "code",
      "metadata": {
        "id": "NsqEs3B4S8gQ",
        "colab_type": "code",
        "colab": {}
      },
      "source": [
        "import os\n",
        "import numpy as np\n",
        "import pandas as pd\n",
        "import matplotlib.pyplot as plt\n",
        "import tensorflow as tf"
      ],
      "execution_count": 1,
      "outputs": []
    },
    {
      "cell_type": "code",
      "metadata": {
        "id": "740NMZRZTCg5",
        "colab_type": "code",
        "colab": {
          "base_uri": "https://localhost:8080/",
          "height": 206
        },
        "outputId": "df36bc48-fb83-4f92-e3a6-39f0942f149c"
      },
      "source": [
        "df_EMG = pd.read_csv(\"/content/EMG-data.csv\")\n",
        "df_EMG.head()"
      ],
      "execution_count": null,
      "outputs": [
        {
          "output_type": "execute_result",
          "data": {
            "text/html": [
              "<div>\n",
              "<style scoped>\n",
              "    .dataframe tbody tr th:only-of-type {\n",
              "        vertical-align: middle;\n",
              "    }\n",
              "\n",
              "    .dataframe tbody tr th {\n",
              "        vertical-align: top;\n",
              "    }\n",
              "\n",
              "    .dataframe thead th {\n",
              "        text-align: right;\n",
              "    }\n",
              "</style>\n",
              "<table border=\"1\" class=\"dataframe\">\n",
              "  <thead>\n",
              "    <tr style=\"text-align: right;\">\n",
              "      <th></th>\n",
              "      <th>time</th>\n",
              "      <th>channel1</th>\n",
              "      <th>channel2</th>\n",
              "      <th>channel3</th>\n",
              "      <th>channel4</th>\n",
              "      <th>channel5</th>\n",
              "      <th>channel6</th>\n",
              "      <th>channel7</th>\n",
              "      <th>channel8</th>\n",
              "      <th>class</th>\n",
              "      <th>label</th>\n",
              "    </tr>\n",
              "  </thead>\n",
              "  <tbody>\n",
              "    <tr>\n",
              "      <th>0</th>\n",
              "      <td>1</td>\n",
              "      <td>0.00001</td>\n",
              "      <td>-0.00002</td>\n",
              "      <td>-0.00001</td>\n",
              "      <td>-0.00003</td>\n",
              "      <td>0.00000</td>\n",
              "      <td>-0.00001</td>\n",
              "      <td>0.00000</td>\n",
              "      <td>-0.00001</td>\n",
              "      <td>0.0</td>\n",
              "      <td>1.0</td>\n",
              "    </tr>\n",
              "    <tr>\n",
              "      <th>1</th>\n",
              "      <td>5</td>\n",
              "      <td>0.00001</td>\n",
              "      <td>-0.00002</td>\n",
              "      <td>-0.00001</td>\n",
              "      <td>-0.00003</td>\n",
              "      <td>0.00000</td>\n",
              "      <td>-0.00001</td>\n",
              "      <td>0.00000</td>\n",
              "      <td>-0.00001</td>\n",
              "      <td>0.0</td>\n",
              "      <td>1.0</td>\n",
              "    </tr>\n",
              "    <tr>\n",
              "      <th>2</th>\n",
              "      <td>6</td>\n",
              "      <td>-0.00001</td>\n",
              "      <td>0.00001</td>\n",
              "      <td>0.00002</td>\n",
              "      <td>0.00000</td>\n",
              "      <td>0.00001</td>\n",
              "      <td>-0.00002</td>\n",
              "      <td>-0.00001</td>\n",
              "      <td>0.00001</td>\n",
              "      <td>0.0</td>\n",
              "      <td>1.0</td>\n",
              "    </tr>\n",
              "    <tr>\n",
              "      <th>3</th>\n",
              "      <td>7</td>\n",
              "      <td>-0.00001</td>\n",
              "      <td>0.00001</td>\n",
              "      <td>0.00002</td>\n",
              "      <td>0.00000</td>\n",
              "      <td>0.00001</td>\n",
              "      <td>-0.00002</td>\n",
              "      <td>-0.00001</td>\n",
              "      <td>0.00001</td>\n",
              "      <td>0.0</td>\n",
              "      <td>1.0</td>\n",
              "    </tr>\n",
              "    <tr>\n",
              "      <th>4</th>\n",
              "      <td>8</td>\n",
              "      <td>-0.00001</td>\n",
              "      <td>0.00001</td>\n",
              "      <td>0.00002</td>\n",
              "      <td>0.00000</td>\n",
              "      <td>0.00001</td>\n",
              "      <td>-0.00002</td>\n",
              "      <td>-0.00001</td>\n",
              "      <td>0.00001</td>\n",
              "      <td>0.0</td>\n",
              "      <td>1.0</td>\n",
              "    </tr>\n",
              "  </tbody>\n",
              "</table>\n",
              "</div>"
            ],
            "text/plain": [
              "   time  channel1  channel2  channel3  ...  channel7  channel8  class  label\n",
              "0     1   0.00001  -0.00002  -0.00001  ...   0.00000  -0.00001    0.0    1.0\n",
              "1     5   0.00001  -0.00002  -0.00001  ...   0.00000  -0.00001    0.0    1.0\n",
              "2     6  -0.00001   0.00001   0.00002  ...  -0.00001   0.00001    0.0    1.0\n",
              "3     7  -0.00001   0.00001   0.00002  ...  -0.00001   0.00001    0.0    1.0\n",
              "4     8  -0.00001   0.00001   0.00002  ...  -0.00001   0.00001    0.0    1.0\n",
              "\n",
              "[5 rows x 11 columns]"
            ]
          },
          "metadata": {
            "tags": []
          },
          "execution_count": 3
        }
      ]
    },
    {
      "cell_type": "code",
      "metadata": {
        "id": "Q9RONVbpVuX6",
        "colab_type": "code",
        "colab": {
          "base_uri": "https://localhost:8080/",
          "height": 69
        },
        "outputId": "3a5a6c71-d1c5-4a8f-d9b2-1a74828defc9"
      },
      "source": [
        "df_EMG.columns"
      ],
      "execution_count": null,
      "outputs": [
        {
          "output_type": "execute_result",
          "data": {
            "text/plain": [
              "Index(['time', 'channel1', 'channel2', 'channel3', 'channel4', 'channel5',\n",
              "       'channel6', 'channel7', 'channel8', 'class', 'label'],\n",
              "      dtype='object')"
            ]
          },
          "metadata": {
            "tags": []
          },
          "execution_count": 4
        }
      ]
    },
    {
      "cell_type": "code",
      "metadata": {
        "id": "U6VzfQuzV7IY",
        "colab_type": "code",
        "colab": {
          "base_uri": "https://localhost:8080/",
          "height": 34
        },
        "outputId": "a2080cb9-9906-40ea-9741-317c4459ed30"
      },
      "source": [
        "df_EMG[\"class\"].unique() "
      ],
      "execution_count": null,
      "outputs": [
        {
          "output_type": "execute_result",
          "data": {
            "text/plain": [
              "array([ 0.,  1.,  2.,  3.,  4.,  5.,  6., nan])"
            ]
          },
          "metadata": {
            "tags": []
          },
          "execution_count": 6
        }
      ]
    },
    {
      "cell_type": "code",
      "metadata": {
        "id": "mKaUsJ-CWDy6",
        "colab_type": "code",
        "colab": {
          "base_uri": "https://localhost:8080/",
          "height": 34
        },
        "outputId": "c1d6457f-925a-41a1-f40a-de494008d2d3"
      },
      "source": [
        "df_EMG[\"label\"].unique() "
      ],
      "execution_count": null,
      "outputs": [
        {
          "output_type": "execute_result",
          "data": {
            "text/plain": [
              "array([ 1.,  2.,  3.,  4.,  5.,  6.,  7.,  8.,  9., 10., nan])"
            ]
          },
          "metadata": {
            "tags": []
          },
          "execution_count": 8
        }
      ]
    },
    {
      "cell_type": "code",
      "metadata": {
        "id": "udMOX447WL_2",
        "colab_type": "code",
        "colab": {
          "base_uri": "https://localhost:8080/",
          "height": 208
        },
        "outputId": "422e2ab5-0ce9-4e3d-f0d2-3dad561011a1"
      },
      "source": [
        "df_EMG[\"label\"].value_counts()"
      ],
      "execution_count": null,
      "outputs": [
        {
          "output_type": "execute_result",
          "data": {
            "text/plain": [
              "2.0     136426\n",
              "7.0     132640\n",
              "9.0     127647\n",
              "1.0     121170\n",
              "8.0     117948\n",
              "10.0    117682\n",
              "4.0     114198\n",
              "5.0     107248\n",
              "3.0     105785\n",
              "6.0      99619\n",
              "Name: label, dtype: int64"
            ]
          },
          "metadata": {
            "tags": []
          },
          "execution_count": 9
        }
      ]
    },
    {
      "cell_type": "code",
      "metadata": {
        "id": "5ial89lBWeA0",
        "colab_type": "code",
        "colab": {
          "base_uri": "https://localhost:8080/",
          "height": 156
        },
        "outputId": "62fb9aa1-f056-43ab-b025-e68cce844b50"
      },
      "source": [
        "df_EMG[\"class\"].value_counts()"
      ],
      "execution_count": null,
      "outputs": [
        {
          "output_type": "execute_result",
          "data": {
            "text/plain": [
              "0.0    774562\n",
              "1.0     68449\n",
              "5.0     68183\n",
              "4.0     68154\n",
              "3.0     67736\n",
              "6.0     66970\n",
              "2.0     66309\n",
              "Name: class, dtype: int64"
            ]
          },
          "metadata": {
            "tags": []
          },
          "execution_count": 10
        }
      ]
    },
    {
      "cell_type": "code",
      "metadata": {
        "id": "hKLjv5oFWkd6",
        "colab_type": "code",
        "colab": {}
      },
      "source": [
        "labels = df_EMG[\"label\"]"
      ],
      "execution_count": null,
      "outputs": []
    },
    {
      "cell_type": "code",
      "metadata": {
        "id": "2XLxnV1nWzk-",
        "colab_type": "code",
        "colab": {
          "base_uri": "https://localhost:8080/",
          "height": 225
        },
        "outputId": "8d7c652c-cf0d-40f4-d568-a37359be2be1"
      },
      "source": [
        "labels"
      ],
      "execution_count": null,
      "outputs": [
        {
          "output_type": "execute_result",
          "data": {
            "text/plain": [
              "0           1.0\n",
              "1           1.0\n",
              "2           1.0\n",
              "3           1.0\n",
              "4           1.0\n",
              "           ... \n",
              "1180359    10.0\n",
              "1180360    10.0\n",
              "1180361    10.0\n",
              "1180362    10.0\n",
              "1180363     NaN\n",
              "Name: label, Length: 1180364, dtype: float64"
            ]
          },
          "metadata": {
            "tags": []
          },
          "execution_count": 12
        }
      ]
    },
    {
      "cell_type": "code",
      "metadata": {
        "id": "6B20Lp7xW3kJ",
        "colab_type": "code",
        "colab": {}
      },
      "source": [
        "text_features = df_EMG.drop(columns=[\"label\"])"
      ],
      "execution_count": null,
      "outputs": []
    },
    {
      "cell_type": "code",
      "metadata": {
        "id": "Rl4CVvOCXBCs",
        "colab_type": "code",
        "colab": {
          "base_uri": "https://localhost:8080/",
          "height": 206
        },
        "outputId": "76093c4f-d38c-4476-e4c2-c28a3f60bdd3"
      },
      "source": [
        "text_features.head()"
      ],
      "execution_count": null,
      "outputs": [
        {
          "output_type": "execute_result",
          "data": {
            "text/html": [
              "<div>\n",
              "<style scoped>\n",
              "    .dataframe tbody tr th:only-of-type {\n",
              "        vertical-align: middle;\n",
              "    }\n",
              "\n",
              "    .dataframe tbody tr th {\n",
              "        vertical-align: top;\n",
              "    }\n",
              "\n",
              "    .dataframe thead th {\n",
              "        text-align: right;\n",
              "    }\n",
              "</style>\n",
              "<table border=\"1\" class=\"dataframe\">\n",
              "  <thead>\n",
              "    <tr style=\"text-align: right;\">\n",
              "      <th></th>\n",
              "      <th>time</th>\n",
              "      <th>channel1</th>\n",
              "      <th>channel2</th>\n",
              "      <th>channel3</th>\n",
              "      <th>channel4</th>\n",
              "      <th>channel5</th>\n",
              "      <th>channel6</th>\n",
              "      <th>channel7</th>\n",
              "      <th>channel8</th>\n",
              "      <th>class</th>\n",
              "    </tr>\n",
              "  </thead>\n",
              "  <tbody>\n",
              "    <tr>\n",
              "      <th>0</th>\n",
              "      <td>1</td>\n",
              "      <td>0.00001</td>\n",
              "      <td>-0.00002</td>\n",
              "      <td>-0.00001</td>\n",
              "      <td>-0.00003</td>\n",
              "      <td>0.00000</td>\n",
              "      <td>-0.00001</td>\n",
              "      <td>0.00000</td>\n",
              "      <td>-0.00001</td>\n",
              "      <td>0.0</td>\n",
              "    </tr>\n",
              "    <tr>\n",
              "      <th>1</th>\n",
              "      <td>5</td>\n",
              "      <td>0.00001</td>\n",
              "      <td>-0.00002</td>\n",
              "      <td>-0.00001</td>\n",
              "      <td>-0.00003</td>\n",
              "      <td>0.00000</td>\n",
              "      <td>-0.00001</td>\n",
              "      <td>0.00000</td>\n",
              "      <td>-0.00001</td>\n",
              "      <td>0.0</td>\n",
              "    </tr>\n",
              "    <tr>\n",
              "      <th>2</th>\n",
              "      <td>6</td>\n",
              "      <td>-0.00001</td>\n",
              "      <td>0.00001</td>\n",
              "      <td>0.00002</td>\n",
              "      <td>0.00000</td>\n",
              "      <td>0.00001</td>\n",
              "      <td>-0.00002</td>\n",
              "      <td>-0.00001</td>\n",
              "      <td>0.00001</td>\n",
              "      <td>0.0</td>\n",
              "    </tr>\n",
              "    <tr>\n",
              "      <th>3</th>\n",
              "      <td>7</td>\n",
              "      <td>-0.00001</td>\n",
              "      <td>0.00001</td>\n",
              "      <td>0.00002</td>\n",
              "      <td>0.00000</td>\n",
              "      <td>0.00001</td>\n",
              "      <td>-0.00002</td>\n",
              "      <td>-0.00001</td>\n",
              "      <td>0.00001</td>\n",
              "      <td>0.0</td>\n",
              "    </tr>\n",
              "    <tr>\n",
              "      <th>4</th>\n",
              "      <td>8</td>\n",
              "      <td>-0.00001</td>\n",
              "      <td>0.00001</td>\n",
              "      <td>0.00002</td>\n",
              "      <td>0.00000</td>\n",
              "      <td>0.00001</td>\n",
              "      <td>-0.00002</td>\n",
              "      <td>-0.00001</td>\n",
              "      <td>0.00001</td>\n",
              "      <td>0.0</td>\n",
              "    </tr>\n",
              "  </tbody>\n",
              "</table>\n",
              "</div>"
            ],
            "text/plain": [
              "   time  channel1  channel2  channel3  ...  channel6  channel7  channel8  class\n",
              "0     1   0.00001  -0.00002  -0.00001  ...  -0.00001   0.00000  -0.00001    0.0\n",
              "1     5   0.00001  -0.00002  -0.00001  ...  -0.00001   0.00000  -0.00001    0.0\n",
              "2     6  -0.00001   0.00001   0.00002  ...  -0.00002  -0.00001   0.00001    0.0\n",
              "3     7  -0.00001   0.00001   0.00002  ...  -0.00002  -0.00001   0.00001    0.0\n",
              "4     8  -0.00001   0.00001   0.00002  ...  -0.00002  -0.00001   0.00001    0.0\n",
              "\n",
              "[5 rows x 10 columns]"
            ]
          },
          "metadata": {
            "tags": []
          },
          "execution_count": 14
        }
      ]
    },
    {
      "cell_type": "code",
      "metadata": {
        "id": "nQ1gDJ-JXEoX",
        "colab_type": "code",
        "colab": {
          "base_uri": "https://localhost:8080/",
          "height": 34
        },
        "outputId": "a8e802ec-5de4-4a8a-e712-e9140a562b29"
      },
      "source": [
        "labels.shape"
      ],
      "execution_count": null,
      "outputs": [
        {
          "output_type": "execute_result",
          "data": {
            "text/plain": [
              "(1180364,)"
            ]
          },
          "metadata": {
            "tags": []
          },
          "execution_count": 15
        }
      ]
    },
    {
      "cell_type": "code",
      "metadata": {
        "id": "ZYem7EPCXJLh",
        "colab_type": "code",
        "colab": {
          "base_uri": "https://localhost:8080/",
          "height": 34
        },
        "outputId": "c7765f16-5602-4671-9e14-1e78e764a472"
      },
      "source": [
        "text_features.shape"
      ],
      "execution_count": null,
      "outputs": [
        {
          "output_type": "execute_result",
          "data": {
            "text/plain": [
              "(1180364, 10)"
            ]
          },
          "metadata": {
            "tags": []
          },
          "execution_count": 16
        }
      ]
    },
    {
      "cell_type": "code",
      "metadata": {
        "id": "izdZTK3NXX-P",
        "colab_type": "code",
        "colab": {
          "base_uri": "https://localhost:8080/",
          "height": 34
        },
        "outputId": "c1af1fc7-552f-4a76-c9ed-a1325e1b86cd"
      },
      "source": [
        "labels = np.ravel(labels)\n",
        "\n",
        "from sklearn.preprocessing import LabelEncoder\n",
        "le = LabelEncoder()\n",
        "\n",
        "labels = le.fit_transform(labels)\n",
        "labels"
      ],
      "execution_count": null,
      "outputs": [
        {
          "output_type": "execute_result",
          "data": {
            "text/plain": [
              "array([ 0,  0,  0, ...,  9,  9, 10])"
            ]
          },
          "metadata": {
            "tags": []
          },
          "execution_count": 17
        }
      ]
    },
    {
      "cell_type": "code",
      "metadata": {
        "id": "tSYPUYlfXeeB",
        "colab_type": "code",
        "colab": {}
      },
      "source": [
        "# spliting data\n",
        "from sklearn.model_selection import train_test_split\n",
        "x_train, x_test, y_train, y_test = train_test_split(text_features, labels, test_size=0.2, random_state=1)"
      ],
      "execution_count": null,
      "outputs": []
    },
    {
      "cell_type": "code",
      "metadata": {
        "id": "WWrkUc9fXyx8",
        "colab_type": "code",
        "colab": {
          "base_uri": "https://localhost:8080/",
          "height": 34
        },
        "outputId": "ca90557f-08ae-48bf-ad9a-5c0cd9672561"
      },
      "source": [
        "x_train.shape # input shape"
      ],
      "execution_count": null,
      "outputs": [
        {
          "output_type": "execute_result",
          "data": {
            "text/plain": [
              "(944291, 10)"
            ]
          },
          "metadata": {
            "tags": []
          },
          "execution_count": 19
        }
      ]
    },
    {
      "cell_type": "code",
      "metadata": {
        "id": "hQP9zy0oXy2_",
        "colab_type": "code",
        "colab": {
          "base_uri": "https://localhost:8080/",
          "height": 34
        },
        "outputId": "67bc088d-39b5-475b-db62-c89097ea0c9c"
      },
      "source": [
        "y_train.shape"
      ],
      "execution_count": null,
      "outputs": [
        {
          "output_type": "execute_result",
          "data": {
            "text/plain": [
              "(944291,)"
            ]
          },
          "metadata": {
            "tags": []
          },
          "execution_count": 20
        }
      ]
    },
    {
      "cell_type": "code",
      "metadata": {
        "id": "MizVyA1AXprz",
        "colab_type": "code",
        "colab": {
          "base_uri": "https://localhost:8080/",
          "height": 86
        },
        "outputId": "11879a4c-43e4-4479-acdf-36d137813ef9"
      },
      "source": [
        "models = tf.keras.Sequential\n",
        "layers = tf.keras.layers\n",
        "\n",
        "model = models([layers.Dense(512,activation=\"relu\",input_shape=(10,)),\n",
        "                layers.Flatten(),\n",
        "                layers.Dense(64,activation=\"relu\"),\n",
        "                layers.Dense(32,activation=\"relu\"),\n",
        "                layers.Dense(40, activation='softmax')])\n",
        "\n",
        "model.compile(optimizer=\"adam\", \n",
        "             loss=\"sparse_categorical_crossentropy\",\n",
        "             metrics=[\"accuracy\"])\n",
        "\n",
        "history = model.fit(x_train,y_train,epochs=20,validation_split=(0.0))"
      ],
      "execution_count": null,
      "outputs": [
        {
          "output_type": "stream",
          "text": [
            "Epoch 1/20\n",
            "29510/29510 [==============================] - 48s 2ms/step - loss: nan - accuracy: 0.1029\n",
            "Epoch 2/20\n",
            "  950/29510 [..............................] - ETA: 45s - loss: nan - accuracy: 0.1035"
          ],
          "name": "stdout"
        }
      ]
    },
    {
      "cell_type": "code",
      "metadata": {
        "id": "Ta85IRVIYoMY",
        "colab_type": "code",
        "colab": {}
      },
      "source": [
        ""
      ],
      "execution_count": null,
      "outputs": []
    }
  ]
}